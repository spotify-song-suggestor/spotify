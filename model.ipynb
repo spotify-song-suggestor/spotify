{
 "metadata": {
  "language_info": {
   "codemirror_mode": {
    "name": "ipython",
    "version": 3
   },
   "file_extension": ".py",
   "mimetype": "text/x-python",
   "name": "python",
   "nbconvert_exporter": "python",
   "pygments_lexer": "ipython3",
   "version": "3.8.8"
  },
  "orig_nbformat": 2,
  "kernelspec": {
   "name": "python388jvsc74a57bd035c03aa0d851cb6285394a035bf26f38eed74d8588e29c3dd9d14089f75b8b7c",
   "display_name": "Python 3.8.8 64-bit ('NLP-MTXprD7X': pipenv)"
  },
  "metadata": {
   "interpreter": {
    "hash": "1eb1274d9b46011db3fd7736afbfd78351ce92e021db6530fd6b2630829fc1c2"
   }
  }
 },
 "nbformat": 4,
 "nbformat_minor": 2,
 "cells": [
  {
   "cell_type": "code",
   "execution_count": 1,
   "metadata": {},
   "outputs": [],
   "source": [
    "import tensorflow as tf\n",
    "import numpy as np\n",
    "import pandas as pd\n",
    "import matplotlib.pyplot as plt\n",
    "import sklearn as skl\n",
    "from tensorflow import keras\n",
    "from sklearn.neighbors import kneighbors_graph, NearestNeighbors\n",
    "from tensorflow.keras.layers import Dense, LeakyReLU\n",
    "from tensorflow.keras.optimizers import Adam, Nadam, RMSprop, SGD\n",
    "from tensorflow.keras.utils import plot_model, to_categorical\n",
    "from tensorflow.keras.models import Model, Sequential, save_model, load_model\n",
    "from tensorflow.config import list_logical_devices\n",
    "from tensorflow.keras.callbacks import TensorBoard"
   ]
  },
  {
   "cell_type": "code",
   "execution_count": 77,
   "metadata": {},
   "outputs": [],
   "source": [
    "# df_full.to_csv('model_ready_data_no_dupes.csv', index=False)"
   ]
  },
  {
   "cell_type": "code",
   "execution_count": 3,
   "metadata": {},
   "outputs": [],
   "source": [
    "df_full = pd.read_csv(r'C:\\Users\\Logan\\Desktop\\model_ready_data_no_dupes.csv')"
   ]
  },
  {
   "cell_type": "code",
   "execution_count": 4,
   "metadata": {},
   "outputs": [],
   "source": [
    "df = df_full.select_dtypes('number')"
   ]
  },
  {
   "cell_type": "code",
   "execution_count": 5,
   "metadata": {},
   "outputs": [],
   "source": [
    "data = df.to_numpy()"
   ]
  },
  {
   "cell_type": "code",
   "execution_count": 6,
   "metadata": {},
   "outputs": [
    {
     "output_type": "execute_result",
     "data": {
      "text/plain": [
       "(524211, 15)"
      ]
     },
     "metadata": {},
     "execution_count": 6
    }
   ],
   "source": [
    "data.shape"
   ]
  },
  {
   "cell_type": "code",
   "execution_count": 7,
   "metadata": {},
   "outputs": [
    {
     "output_type": "execute_result",
     "data": {
      "text/plain": [
       "                                       name  duration_ms  explicit  \\\n",
       "0                                     carve     0.022576         0   \n",
       "1       capítulo 2.16 - banquero anarquista     0.017470         0   \n",
       "2        vivo para quererte - remasterizado     0.032313         0   \n",
       "3             el prisionero - remasterizado     0.031471         0   \n",
       "4                       lady of the evening     0.029012         0   \n",
       "...                                     ...          ...       ...   \n",
       "524206                                  云与海     0.045945         0   \n",
       "524207                                blind     0.027270         0   \n",
       "524208            what they'll say about us     0.033374         0   \n",
       "524209                      a day at a time     0.025262         0   \n",
       "524210                     mar de emociones     0.038134         0   \n",
       "\n",
       "                                    artists release_date  danceability  \\\n",
       "0                                 [\"'uli'\"]   1922-02-22         0.645   \n",
       "1                     [\"'fernando pessoa'\"]   1922-06-01         0.695   \n",
       "2                     [\"'ignacio corsini'\"]   1922-03-21         0.434   \n",
       "3                     [\"'ignacio corsini'\"]   1922-03-21         0.321   \n",
       "4                         [\"'dick haymes'\"]         1922         0.402   \n",
       "...                                     ...          ...           ...   \n",
       "524206                        [\"'阿yueyue'\"]   2020-09-26         0.560   \n",
       "524207                     [\"'role model'\"]   2020-10-21         0.765   \n",
       "524208                        [\"'finneas'\"]   2020-09-02         0.535   \n",
       "524209  [\"'gentle bones'\", \"'clara benin'\"]   2021-03-05         0.696   \n",
       "524210                      [\"'afrosound'\"]   2015-07-01         0.686   \n",
       "\n",
       "        energy       key  loudness  mode  speechiness  acousticness  \\\n",
       "0       0.4450  0.000000  0.713748     1       0.4510         0.674   \n",
       "1       0.2630  0.000000  0.579173     1       0.9570         0.797   \n",
       "2       0.1770  0.090909  0.593796     1       0.0512         0.994   \n",
       "3       0.0946  0.636364  0.490073     1       0.0504         0.995   \n",
       "4       0.1580  0.272727  0.659263     0       0.0390         0.989   \n",
       "...        ...       ...       ...   ...          ...           ...   \n",
       "524206  0.5180  0.000000  0.803491     0       0.0292         0.785   \n",
       "524207  0.6630  0.000000  0.837876     1       0.0652         0.141   \n",
       "524208  0.3140  0.636364  0.721626     0       0.0408         0.895   \n",
       "524209  0.6150  0.909091  0.822748     1       0.0345         0.206   \n",
       "524210  0.7230  0.545455  0.809670     1       0.0363         0.105   \n",
       "\n",
       "        instrumentalness  liveness  valence     tempo  time_signature  \\\n",
       "0               0.744000    0.1510   0.1270  0.425564             0.6   \n",
       "1               0.000000    0.1480   0.6550  0.414029             0.2   \n",
       "2               0.021800    0.2120   0.4570  0.529335             1.0   \n",
       "3               0.918000    0.1040   0.3970  0.689907             0.6   \n",
       "4               0.130000    0.3110   0.1960  0.418945             0.8   \n",
       "...                  ...       ...      ...       ...             ...   \n",
       "524206          0.000000    0.0648   0.2110  0.535333             0.8   \n",
       "524207          0.000297    0.0924   0.6860  0.609183             0.8   \n",
       "524208          0.000150    0.0874   0.0663  0.588905             0.8   \n",
       "524209          0.000003    0.3050   0.4380  0.365406             0.8   \n",
       "524210          0.000000    0.2640   0.9750  0.455408             0.8   \n",
       "\n",
       "        popularity  \n",
       "0             0.06  \n",
       "1             0.00  \n",
       "2             0.00  \n",
       "3             0.00  \n",
       "4             0.00  \n",
       "...            ...  \n",
       "524206        0.50  \n",
       "524207        0.72  \n",
       "524208        0.70  \n",
       "524209        0.58  \n",
       "524210        0.38  \n",
       "\n",
       "[524211 rows x 18 columns]"
      ],
      "text/html": "<div>\n<style scoped>\n    .dataframe tbody tr th:only-of-type {\n        vertical-align: middle;\n    }\n\n    .dataframe tbody tr th {\n        vertical-align: top;\n    }\n\n    .dataframe thead th {\n        text-align: right;\n    }\n</style>\n<table border=\"1\" class=\"dataframe\">\n  <thead>\n    <tr style=\"text-align: right;\">\n      <th></th>\n      <th>name</th>\n      <th>duration_ms</th>\n      <th>explicit</th>\n      <th>artists</th>\n      <th>release_date</th>\n      <th>danceability</th>\n      <th>energy</th>\n      <th>key</th>\n      <th>loudness</th>\n      <th>mode</th>\n      <th>speechiness</th>\n      <th>acousticness</th>\n      <th>instrumentalness</th>\n      <th>liveness</th>\n      <th>valence</th>\n      <th>tempo</th>\n      <th>time_signature</th>\n      <th>popularity</th>\n    </tr>\n  </thead>\n  <tbody>\n    <tr>\n      <th>0</th>\n      <td>carve</td>\n      <td>0.022576</td>\n      <td>0</td>\n      <td>[\"'uli'\"]</td>\n      <td>1922-02-22</td>\n      <td>0.645</td>\n      <td>0.4450</td>\n      <td>0.000000</td>\n      <td>0.713748</td>\n      <td>1</td>\n      <td>0.4510</td>\n      <td>0.674</td>\n      <td>0.744000</td>\n      <td>0.1510</td>\n      <td>0.1270</td>\n      <td>0.425564</td>\n      <td>0.6</td>\n      <td>0.06</td>\n    </tr>\n    <tr>\n      <th>1</th>\n      <td>capítulo 2.16 - banquero anarquista</td>\n      <td>0.017470</td>\n      <td>0</td>\n      <td>[\"'fernando pessoa'\"]</td>\n      <td>1922-06-01</td>\n      <td>0.695</td>\n      <td>0.2630</td>\n      <td>0.000000</td>\n      <td>0.579173</td>\n      <td>1</td>\n      <td>0.9570</td>\n      <td>0.797</td>\n      <td>0.000000</td>\n      <td>0.1480</td>\n      <td>0.6550</td>\n      <td>0.414029</td>\n      <td>0.2</td>\n      <td>0.00</td>\n    </tr>\n    <tr>\n      <th>2</th>\n      <td>vivo para quererte - remasterizado</td>\n      <td>0.032313</td>\n      <td>0</td>\n      <td>[\"'ignacio corsini'\"]</td>\n      <td>1922-03-21</td>\n      <td>0.434</td>\n      <td>0.1770</td>\n      <td>0.090909</td>\n      <td>0.593796</td>\n      <td>1</td>\n      <td>0.0512</td>\n      <td>0.994</td>\n      <td>0.021800</td>\n      <td>0.2120</td>\n      <td>0.4570</td>\n      <td>0.529335</td>\n      <td>1.0</td>\n      <td>0.00</td>\n    </tr>\n    <tr>\n      <th>3</th>\n      <td>el prisionero - remasterizado</td>\n      <td>0.031471</td>\n      <td>0</td>\n      <td>[\"'ignacio corsini'\"]</td>\n      <td>1922-03-21</td>\n      <td>0.321</td>\n      <td>0.0946</td>\n      <td>0.636364</td>\n      <td>0.490073</td>\n      <td>1</td>\n      <td>0.0504</td>\n      <td>0.995</td>\n      <td>0.918000</td>\n      <td>0.1040</td>\n      <td>0.3970</td>\n      <td>0.689907</td>\n      <td>0.6</td>\n      <td>0.00</td>\n    </tr>\n    <tr>\n      <th>4</th>\n      <td>lady of the evening</td>\n      <td>0.029012</td>\n      <td>0</td>\n      <td>[\"'dick haymes'\"]</td>\n      <td>1922</td>\n      <td>0.402</td>\n      <td>0.1580</td>\n      <td>0.272727</td>\n      <td>0.659263</td>\n      <td>0</td>\n      <td>0.0390</td>\n      <td>0.989</td>\n      <td>0.130000</td>\n      <td>0.3110</td>\n      <td>0.1960</td>\n      <td>0.418945</td>\n      <td>0.8</td>\n      <td>0.00</td>\n    </tr>\n    <tr>\n      <th>...</th>\n      <td>...</td>\n      <td>...</td>\n      <td>...</td>\n      <td>...</td>\n      <td>...</td>\n      <td>...</td>\n      <td>...</td>\n      <td>...</td>\n      <td>...</td>\n      <td>...</td>\n      <td>...</td>\n      <td>...</td>\n      <td>...</td>\n      <td>...</td>\n      <td>...</td>\n      <td>...</td>\n      <td>...</td>\n      <td>...</td>\n    </tr>\n    <tr>\n      <th>524206</th>\n      <td>云与海</td>\n      <td>0.045945</td>\n      <td>0</td>\n      <td>[\"'阿yueyue'\"]</td>\n      <td>2020-09-26</td>\n      <td>0.560</td>\n      <td>0.5180</td>\n      <td>0.000000</td>\n      <td>0.803491</td>\n      <td>0</td>\n      <td>0.0292</td>\n      <td>0.785</td>\n      <td>0.000000</td>\n      <td>0.0648</td>\n      <td>0.2110</td>\n      <td>0.535333</td>\n      <td>0.8</td>\n      <td>0.50</td>\n    </tr>\n    <tr>\n      <th>524207</th>\n      <td>blind</td>\n      <td>0.027270</td>\n      <td>0</td>\n      <td>[\"'role model'\"]</td>\n      <td>2020-10-21</td>\n      <td>0.765</td>\n      <td>0.6630</td>\n      <td>0.000000</td>\n      <td>0.837876</td>\n      <td>1</td>\n      <td>0.0652</td>\n      <td>0.141</td>\n      <td>0.000297</td>\n      <td>0.0924</td>\n      <td>0.6860</td>\n      <td>0.609183</td>\n      <td>0.8</td>\n      <td>0.72</td>\n    </tr>\n    <tr>\n      <th>524208</th>\n      <td>what they'll say about us</td>\n      <td>0.033374</td>\n      <td>0</td>\n      <td>[\"'finneas'\"]</td>\n      <td>2020-09-02</td>\n      <td>0.535</td>\n      <td>0.3140</td>\n      <td>0.636364</td>\n      <td>0.721626</td>\n      <td>0</td>\n      <td>0.0408</td>\n      <td>0.895</td>\n      <td>0.000150</td>\n      <td>0.0874</td>\n      <td>0.0663</td>\n      <td>0.588905</td>\n      <td>0.8</td>\n      <td>0.70</td>\n    </tr>\n    <tr>\n      <th>524209</th>\n      <td>a day at a time</td>\n      <td>0.025262</td>\n      <td>0</td>\n      <td>[\"'gentle bones'\", \"'clara benin'\"]</td>\n      <td>2021-03-05</td>\n      <td>0.696</td>\n      <td>0.6150</td>\n      <td>0.909091</td>\n      <td>0.822748</td>\n      <td>1</td>\n      <td>0.0345</td>\n      <td>0.206</td>\n      <td>0.000003</td>\n      <td>0.3050</td>\n      <td>0.4380</td>\n      <td>0.365406</td>\n      <td>0.8</td>\n      <td>0.58</td>\n    </tr>\n    <tr>\n      <th>524210</th>\n      <td>mar de emociones</td>\n      <td>0.038134</td>\n      <td>0</td>\n      <td>[\"'afrosound'\"]</td>\n      <td>2015-07-01</td>\n      <td>0.686</td>\n      <td>0.7230</td>\n      <td>0.545455</td>\n      <td>0.809670</td>\n      <td>1</td>\n      <td>0.0363</td>\n      <td>0.105</td>\n      <td>0.000000</td>\n      <td>0.2640</td>\n      <td>0.9750</td>\n      <td>0.455408</td>\n      <td>0.8</td>\n      <td>0.38</td>\n    </tr>\n  </tbody>\n</table>\n<p>524211 rows × 18 columns</p>\n</div>"
     },
     "metadata": {},
     "execution_count": 7
    }
   ],
   "source": [
    "df_full"
   ]
  },
  {
   "cell_type": "code",
   "execution_count": 86,
   "metadata": {},
   "outputs": [],
   "source": [
    "class AutoEncoder(Model):\n",
    "    def __init__(self):\n",
    "        super(AutoEncoder, self).__init__()\n",
    "        self.encoder = Sequential([\n",
    "            Dense(64, input_shape=(data.shape[1],), activation='relu'),\n",
    "            Dense(32, activation='relu'),\n",
    "            Dense(16, activation='relu'),\n",
    "            Dense(8, activation='gelu')])\n",
    "        self.decoder = Sequential([\n",
    "            Dense(16, activation='gelu'),\n",
    "            Dense(32, activation='relu'),\n",
    "            Dense(64, activation='relu'),\n",
    "            Dense(15, activation='relu')])\n",
    "\n",
    "\n",
    "    def call(self, x):\n",
    "        encoded = self.encoder(x)\n",
    "        decoded = self.decoder(encoded)\n",
    "        return decoded"
   ]
  },
  {
   "cell_type": "code",
   "execution_count": 212,
   "metadata": {},
   "outputs": [],
   "source": [
    "ae = AutoEncoder()\n",
    "ae.compile(optimizer='adam', loss='mae')"
   ]
  },
  {
   "cell_type": "code",
   "execution_count": 213,
   "metadata": {},
   "outputs": [
    {
     "output_type": "stream",
     "name": "stdout",
     "text": [
      "Epoch 1/10\n",
      "14744/14744 [==============================] - 13s 853us/step - loss: 0.1855 - val_loss: 0.1753\n",
      "Epoch 2/10\n",
      "14744/14744 [==============================] - 13s 856us/step - loss: 0.1559 - val_loss: 0.1564\n",
      "Epoch 3/10\n",
      "14744/14744 [==============================] - 12s 839us/step - loss: 0.1524 - val_loss: 0.1531\n",
      "Epoch 4/10\n",
      "14744/14744 [==============================] - 12s 836us/step - loss: 0.1509 - val_loss: 0.1536\n",
      "Epoch 5/10\n",
      "14744/14744 [==============================] - 12s 839us/step - loss: 0.1506 - val_loss: 0.1528\n",
      "Epoch 6/10\n",
      "14744/14744 [==============================] - 12s 836us/step - loss: 0.1504 - val_loss: 0.1520\n",
      "Epoch 7/10\n",
      "14744/14744 [==============================] - 13s 856us/step - loss: 0.1503 - val_loss: 0.1529\n",
      "Epoch 8/10\n",
      "14744/14744 [==============================] - 12s 842us/step - loss: 0.1501 - val_loss: 0.1527\n",
      "Epoch 9/10\n",
      "14744/14744 [==============================] - 12s 830us/step - loss: 0.1500 - val_loss: 0.1521\n",
      "Epoch 10/10\n",
      "14744/14744 [==============================] - 12s 841us/step - loss: 0.1498 - val_loss: 0.1526\n"
     ]
    },
    {
     "output_type": "execute_result",
     "data": {
      "text/plain": [
       "<tensorflow.python.keras.callbacks.History at 0x1bc6c773370>"
      ]
     },
     "metadata": {},
     "execution_count": 213
    }
   ],
   "source": [
    "ae.fit(data, data, shuffle=True, epochs=10, workers=10, use_multiprocessing=True, validation_split=.1)"
   ]
  },
  {
   "cell_type": "code",
   "execution_count": 214,
   "metadata": {},
   "outputs": [],
   "source": [
    "encoded_data = ae.encoder(data)"
   ]
  },
  {
   "cell_type": "code",
   "execution_count": 215,
   "metadata": {},
   "outputs": [
    {
     "output_type": "execute_result",
     "data": {
      "text/plain": [
       "<tf.Tensor: shape=(524211, 8), dtype=float32, numpy=\n",
       "array([[ 1.4638278 ,  0.43772218,  0.45585892, ..., -0.1414433 ,\n",
       "        -0.02446401,  1.1333817 ],\n",
       "       [ 1.0166061 ,  0.47225404,  0.28378925, ..., -0.0944583 ,\n",
       "        -0.02418888,  1.490889  ],\n",
       "       [ 1.0410358 ,  0.2693591 ,  0.96988726, ..., -0.08931696,\n",
       "        -0.03358055,  1.4530045 ],\n",
       "       ...,\n",
       "       [ 1.863161  ,  0.8951466 ,  0.8856626 , ..., -0.11445237,\n",
       "        -0.09538402,  1.528984  ],\n",
       "       [ 1.5459175 ,  1.489423  ,  0.7626769 , ..., -0.110218  ,\n",
       "        -0.1341368 ,  1.081506  ],\n",
       "       [ 0.84015423,  1.5982221 ,  0.933198  , ..., -0.10198129,\n",
       "        -0.09008599,  1.0321317 ]], dtype=float32)>"
      ]
     },
     "metadata": {},
     "execution_count": 215
    }
   ],
   "source": [
    "encoded_data"
   ]
  },
  {
   "cell_type": "code",
   "execution_count": 216,
   "metadata": {},
   "outputs": [
    {
     "output_type": "execute_result",
     "data": {
      "text/plain": [
       "NearestNeighbors(n_jobs=-1, radius=1)"
      ]
     },
     "metadata": {},
     "execution_count": 216
    }
   ],
   "source": [
    "knn = NearestNeighbors(n_neighbors=5, radius=1, n_jobs=-1)\n",
    "knn.fit(encoded_data)"
   ]
  },
  {
   "cell_type": "code",
   "execution_count": 93,
   "metadata": {},
   "outputs": [],
   "source": [
    "model_2 = AutoEncoder()\n",
    "loss = tf.keras.losses.MeanAbsoluteError()\n",
    "model_2.compile(optimizer='nadam', loss=loss)"
   ]
  },
  {
   "cell_type": "code",
   "execution_count": 94,
   "metadata": {},
   "outputs": [
    {
     "output_type": "stream",
     "name": "stdout",
     "text": [
      "Epoch 1/10\n",
      "14744/14744 [==============================] - 14s 837us/step - loss: 0.1466 - val_loss: 0.1339\n",
      "Epoch 2/10\n",
      "14744/14744 [==============================] - 12s 820us/step - loss: 0.1347 - val_loss: 0.1262\n",
      "Epoch 3/10\n",
      "14744/14744 [==============================] - 12s 824us/step - loss: 0.1037 - val_loss: 0.0880\n",
      "Epoch 4/10\n",
      "14744/14744 [==============================] - 12s 825us/step - loss: 0.0902 - val_loss: 0.0853\n",
      "Epoch 5/10\n",
      "14744/14744 [==============================] - 12s 835us/step - loss: 0.0832 - val_loss: 0.0727\n",
      "Epoch 6/10\n",
      "14744/14744 [==============================] - 12s 835us/step - loss: 0.0753 - val_loss: 0.0731\n",
      "Epoch 7/10\n",
      "14744/14744 [==============================] - 12s 817us/step - loss: 0.0751 - val_loss: 0.0726\n",
      "Epoch 8/10\n",
      "14744/14744 [==============================] - 12s 811us/step - loss: 0.0750 - val_loss: 0.0714\n",
      "Epoch 9/10\n",
      "14744/14744 [==============================] - 12s 819us/step - loss: 0.0748 - val_loss: 0.0713\n",
      "Epoch 10/10\n",
      "14744/14744 [==============================] - 12s 824us/step - loss: 0.0468 - val_loss: 0.0380\n"
     ]
    },
    {
     "output_type": "execute_result",
     "data": {
      "text/plain": [
       "<tensorflow.python.keras.callbacks.History at 0x1bc0926a550>"
      ]
     },
     "metadata": {},
     "execution_count": 94
    }
   ],
   "source": [
    "model_2.fit(data, data, epochs=10, shuffle=True, validation_split=.1)"
   ]
  },
  {
   "cell_type": "code",
   "execution_count": 95,
   "metadata": {},
   "outputs": [],
   "source": [
    "encoded_data_2 = model_2.encoder(data)"
   ]
  },
  {
   "cell_type": "code",
   "execution_count": 96,
   "metadata": {},
   "outputs": [
    {
     "output_type": "execute_result",
     "data": {
      "text/plain": [
       "NearestNeighbors(n_jobs=-1)"
      ]
     },
     "metadata": {},
     "execution_count": 96
    }
   ],
   "source": [
    "knn_2 = NearestNeighbors(n_neighbors=5, n_jobs=-1)\n",
    "knn_2.fit(encoded_data_2)"
   ]
  },
  {
   "cell_type": "code",
   "execution_count": 97,
   "metadata": {},
   "outputs": [],
   "source": [
    "class AutoEncoder2(Model):\n",
    "    def __init__(self, alpha):\n",
    "        super(AutoEncoder2, self).__init__()\n",
    "        self.encoder = Sequential([\n",
    "            Dense(32, input_shape=data.shape[1:]),\n",
    "            LeakyReLU(alpha),\n",
    "            Dense(16),\n",
    "            LeakyReLU(alpha),\n",
    "            Dense(5),\n",
    "            LeakyReLU(alpha)])\n",
    "        self.decoder = Sequential([\n",
    "            Dense(16),\n",
    "            LeakyReLU(alpha),\n",
    "            Dense(32),\n",
    "            LeakyReLU(alpha),\n",
    "            Dense(15),\n",
    "            LeakyReLU(alpha)])\n",
    "    \n",
    "\n",
    "    def call(self, x):\n",
    "        encoded = self.encoder(x)\n",
    "        decoded = self.decoder(encoded)\n",
    "        return decoded"
   ]
  },
  {
   "cell_type": "code",
   "execution_count": 217,
   "metadata": {},
   "outputs": [],
   "source": [
    "ae2 = AutoEncoder2(.1)\n",
    "ae2.compile(optimizer='adam', loss='mae')"
   ]
  },
  {
   "cell_type": "code",
   "execution_count": 218,
   "metadata": {},
   "outputs": [
    {
     "output_type": "stream",
     "name": "stdout",
     "text": [
      "Epoch 1/10\n",
      "14744/14744 [==============================] - 11s 716us/step - loss: 0.0616 - val_loss: 0.0483\n",
      "Epoch 2/10\n",
      "14744/14744 [==============================] - 10s 696us/step - loss: 0.0529 - val_loss: 0.0465\n",
      "Epoch 3/10\n",
      "14744/14744 [==============================] - 10s 700us/step - loss: 0.0504 - val_loss: 0.0459\n",
      "Epoch 4/10\n",
      "14744/14744 [==============================] - 10s 689us/step - loss: 0.0490 - val_loss: 0.0445\n",
      "Epoch 5/10\n",
      "14744/14744 [==============================] - 10s 686us/step - loss: 0.0486 - val_loss: 0.0452\n",
      "Epoch 6/10\n",
      "14744/14744 [==============================] - 10s 703us/step - loss: 0.0485 - val_loss: 0.0441\n",
      "Epoch 7/10\n",
      "14744/14744 [==============================] - 10s 680us/step - loss: 0.0484 - val_loss: 0.0442\n",
      "Epoch 8/10\n",
      "14744/14744 [==============================] - 10s 679us/step - loss: 0.0483 - val_loss: 0.0444\n",
      "Epoch 9/10\n",
      "14744/14744 [==============================] - 10s 675us/step - loss: 0.0481 - val_loss: 0.0441\n",
      "Epoch 10/10\n",
      "14744/14744 [==============================] - 10s 672us/step - loss: 0.0476 - val_loss: 0.0423\n"
     ]
    },
    {
     "output_type": "execute_result",
     "data": {
      "text/plain": [
       "<tensorflow.python.keras.callbacks.History at 0x1bc7434d6a0>"
      ]
     },
     "metadata": {},
     "execution_count": 218
    }
   ],
   "source": [
    "ae2.fit(data, data, epochs=10, validation_split=.1, workers=10, use_multiprocessing=True, shuffle=True)"
   ]
  },
  {
   "cell_type": "code",
   "execution_count": 219,
   "metadata": {},
   "outputs": [],
   "source": [
    "encoded_data_3 = ae2.encoder(data)"
   ]
  },
  {
   "cell_type": "code",
   "execution_count": 220,
   "metadata": {},
   "outputs": [
    {
     "output_type": "execute_result",
     "data": {
      "text/plain": [
       "NearestNeighbors(n_jobs=-1)"
      ]
     },
     "metadata": {},
     "execution_count": 220
    }
   ],
   "source": [
    "knn_3 = NearestNeighbors(n_neighbors=5, n_jobs=-1)\n",
    "knn_3.fit(encoded_data_3)"
   ]
  },
  {
   "cell_type": "code",
   "execution_count": 252,
   "metadata": {},
   "outputs": [],
   "source": [
    "ae4 = AutoEncoder2(.3)\n",
    "ae4.compile(optimizer='rmsprop', loss='mae')"
   ]
  },
  {
   "cell_type": "code",
   "execution_count": 253,
   "metadata": {},
   "outputs": [
    {
     "output_type": "stream",
     "name": "stdout",
     "text": [
      "Epoch 1/10\n",
      "14744/14744 [==============================] - 10s 642us/step - loss: 0.0648 - val_loss: 0.0542\n",
      "Epoch 2/10\n",
      "14744/14744 [==============================] - 9s 637us/step - loss: 0.0579 - val_loss: 0.0526\n",
      "Epoch 3/10\n",
      "14744/14744 [==============================] - 10s 654us/step - loss: 0.0510 - val_loss: 0.0452\n",
      "Epoch 4/10\n",
      "14744/14744 [==============================] - 10s 649us/step - loss: 0.0485 - val_loss: 0.0428\n",
      "Epoch 5/10\n",
      "14744/14744 [==============================] - 9s 642us/step - loss: 0.0477 - val_loss: 0.0431\n",
      "Epoch 6/10\n",
      "14744/14744 [==============================] - 9s 644us/step - loss: 0.0467 - val_loss: 0.0418\n",
      "Epoch 7/10\n",
      "14744/14744 [==============================] - 9s 631us/step - loss: 0.0455 - val_loss: 0.0399\n",
      "Epoch 8/10\n",
      "14744/14744 [==============================] - 9s 636us/step - loss: 0.0448 - val_loss: 0.0420\n",
      "Epoch 9/10\n",
      "14744/14744 [==============================] - 9s 637us/step - loss: 0.0443 - val_loss: 0.0414\n",
      "Epoch 10/10\n",
      "14744/14744 [==============================] - 9s 642us/step - loss: 0.0434 - val_loss: 0.0386\n"
     ]
    },
    {
     "output_type": "execute_result",
     "data": {
      "text/plain": [
       "<tensorflow.python.keras.callbacks.History at 0x1bc7931f6a0>"
      ]
     },
     "metadata": {},
     "execution_count": 253
    }
   ],
   "source": [
    "ae4.fit(data, data, epochs=10, validation_split=.1, workers=10, use_multiprocessing=True, shuffle=True)"
   ]
  },
  {
   "cell_type": "code",
   "execution_count": 257,
   "metadata": {},
   "outputs": [
    {
     "output_type": "stream",
     "name": "stdout",
     "text": [
      "INFO:tensorflow:Assets written to: ae4\\assets\n"
     ]
    }
   ],
   "source": [
    "ae4.save('ae4')"
   ]
  },
  {
   "cell_type": "code",
   "execution_count": 16,
   "metadata": {},
   "outputs": [],
   "source": [
    "ae4 = load_model('ae4')"
   ]
  },
  {
   "cell_type": "code",
   "execution_count": 17,
   "metadata": {},
   "outputs": [
    {
     "output_type": "execute_result",
     "data": {
      "text/plain": [
       "NearestNeighbors(n_jobs=-1)"
      ]
     },
     "metadata": {},
     "execution_count": 17
    }
   ],
   "source": [
    "encoded_data_4 = ae4.encoder(data)\n",
    "knn4 = NearestNeighbors(n_jobs=-1)\n",
    "knn4.fit(encoded_data_4)"
   ]
  },
  {
   "cell_type": "code",
   "execution_count": 19,
   "metadata": {},
   "outputs": [
    {
     "output_type": "execute_result",
     "data": {
      "text/plain": [
       "['encoded_data.joblib']"
      ]
     },
     "metadata": {},
     "execution_count": 19
    }
   ],
   "source": [
    "joblib.dump(encoded_data_4, 'encoded_data.joblib')"
   ]
  },
  {
   "cell_type": "code",
   "execution_count": 255,
   "metadata": {},
   "outputs": [],
   "source": [
    "query = 72837\n",
    "\n",
    "_, ind = knn.kneighbors([encoded_data[query]])\n",
    "_, ind2 = knn_2.kneighbors([encoded_data_2[query]])\n",
    "_, ind3 = knn_3.kneighbors([encoded_data_3[query]])\n",
    "_, ind4 = knn4.kneighbors([encoded_data_4[query]])"
   ]
  },
  {
   "cell_type": "code",
   "execution_count": 243,
   "metadata": {},
   "outputs": [
    {
     "output_type": "execute_result",
     "data": {
      "text/plain": [
       "                  name  duration_ms  explicit                 artists  \\\n",
       "72837          duality     0.044939         0          [\"'slipknot'\"]   \n",
       "76442     use somebody     0.041052         0     [\"'kings of leon'\"]   \n",
       "74796   never too late     0.037240         0  [\"'three days grace'\"]   \n",
       "72828   mr. brightside     0.039666         0       [\"'the killers'\"]   \n",
       "165065      crazy girl     0.035705         0    [\"'eli young band'\"]   \n",
       "\n",
       "       release_date  danceability  energy       key  loudness  mode  \\\n",
       "72837          2004         0.354   0.982  0.363636  0.871482     0   \n",
       "76442    2008-09-23         0.276   0.715  0.000000  0.835842     1   \n",
       "74796    2006-06-25         0.433   0.778  0.181818  0.846182     0   \n",
       "72828          2004         0.352   0.911  0.090909  0.837769     1   \n",
       "165065   2011-01-01         0.366   0.651  0.363636  0.859000     1   \n",
       "\n",
       "        speechiness  acousticness  instrumentalness  liveness  valence  \\\n",
       "72837        0.1680      0.000237          0.000294    0.2040    0.194   \n",
       "76442        0.0432      0.005520          0.000417    0.2010    0.173   \n",
       "74796        0.0371      0.008380          0.000000    0.1630    0.217   \n",
       "72828        0.0747      0.001210          0.000000    0.0995    0.236   \n",
       "165065       0.0310      0.000415          0.005260    0.2710    0.257   \n",
       "\n",
       "           tempo  time_signature  popularity  \n",
       "72837   0.583535             0.8        0.78  \n",
       "76442   0.556163             0.8        0.77  \n",
       "74796   0.608261             0.8        0.70  \n",
       "72828   0.600830             0.8        0.82  \n",
       "165065  0.614264             0.6        0.69  "
      ],
      "text/html": "<div>\n<style scoped>\n    .dataframe tbody tr th:only-of-type {\n        vertical-align: middle;\n    }\n\n    .dataframe tbody tr th {\n        vertical-align: top;\n    }\n\n    .dataframe thead th {\n        text-align: right;\n    }\n</style>\n<table border=\"1\" class=\"dataframe\">\n  <thead>\n    <tr style=\"text-align: right;\">\n      <th></th>\n      <th>name</th>\n      <th>duration_ms</th>\n      <th>explicit</th>\n      <th>artists</th>\n      <th>release_date</th>\n      <th>danceability</th>\n      <th>energy</th>\n      <th>key</th>\n      <th>loudness</th>\n      <th>mode</th>\n      <th>speechiness</th>\n      <th>acousticness</th>\n      <th>instrumentalness</th>\n      <th>liveness</th>\n      <th>valence</th>\n      <th>tempo</th>\n      <th>time_signature</th>\n      <th>popularity</th>\n    </tr>\n  </thead>\n  <tbody>\n    <tr>\n      <th>72837</th>\n      <td>duality</td>\n      <td>0.044939</td>\n      <td>0</td>\n      <td>[\"'slipknot'\"]</td>\n      <td>2004</td>\n      <td>0.354</td>\n      <td>0.982</td>\n      <td>0.363636</td>\n      <td>0.871482</td>\n      <td>0</td>\n      <td>0.1680</td>\n      <td>0.000237</td>\n      <td>0.000294</td>\n      <td>0.2040</td>\n      <td>0.194</td>\n      <td>0.583535</td>\n      <td>0.8</td>\n      <td>0.78</td>\n    </tr>\n    <tr>\n      <th>76442</th>\n      <td>use somebody</td>\n      <td>0.041052</td>\n      <td>0</td>\n      <td>[\"'kings of leon'\"]</td>\n      <td>2008-09-23</td>\n      <td>0.276</td>\n      <td>0.715</td>\n      <td>0.000000</td>\n      <td>0.835842</td>\n      <td>1</td>\n      <td>0.0432</td>\n      <td>0.005520</td>\n      <td>0.000417</td>\n      <td>0.2010</td>\n      <td>0.173</td>\n      <td>0.556163</td>\n      <td>0.8</td>\n      <td>0.77</td>\n    </tr>\n    <tr>\n      <th>74796</th>\n      <td>never too late</td>\n      <td>0.037240</td>\n      <td>0</td>\n      <td>[\"'three days grace'\"]</td>\n      <td>2006-06-25</td>\n      <td>0.433</td>\n      <td>0.778</td>\n      <td>0.181818</td>\n      <td>0.846182</td>\n      <td>0</td>\n      <td>0.0371</td>\n      <td>0.008380</td>\n      <td>0.000000</td>\n      <td>0.1630</td>\n      <td>0.217</td>\n      <td>0.608261</td>\n      <td>0.8</td>\n      <td>0.70</td>\n    </tr>\n    <tr>\n      <th>72828</th>\n      <td>mr. brightside</td>\n      <td>0.039666</td>\n      <td>0</td>\n      <td>[\"'the killers'\"]</td>\n      <td>2004</td>\n      <td>0.352</td>\n      <td>0.911</td>\n      <td>0.090909</td>\n      <td>0.837769</td>\n      <td>1</td>\n      <td>0.0747</td>\n      <td>0.001210</td>\n      <td>0.000000</td>\n      <td>0.0995</td>\n      <td>0.236</td>\n      <td>0.600830</td>\n      <td>0.8</td>\n      <td>0.82</td>\n    </tr>\n    <tr>\n      <th>165065</th>\n      <td>crazy girl</td>\n      <td>0.035705</td>\n      <td>0</td>\n      <td>[\"'eli young band'\"]</td>\n      <td>2011-01-01</td>\n      <td>0.366</td>\n      <td>0.651</td>\n      <td>0.363636</td>\n      <td>0.859000</td>\n      <td>1</td>\n      <td>0.0310</td>\n      <td>0.000415</td>\n      <td>0.005260</td>\n      <td>0.2710</td>\n      <td>0.257</td>\n      <td>0.614264</td>\n      <td>0.6</td>\n      <td>0.69</td>\n    </tr>\n  </tbody>\n</table>\n</div>"
     },
     "metadata": {},
     "execution_count": 243
    }
   ],
   "source": [
    "df_full.iloc[ind[0]]"
   ]
  },
  {
   "cell_type": "code",
   "execution_count": 244,
   "metadata": {},
   "outputs": [
    {
     "output_type": "execute_result",
     "data": {
      "text/plain": [
       "                     name  duration_ms  explicit             artists  \\\n",
       "72837             duality     0.044939         0      [\"'slipknot'\"]   \n",
       "50622       ace of spades     0.029695         0     [\"'motörhead'\"]   \n",
       "71173    times like these     0.047242         0  [\"'foo fighters'\"]   \n",
       "74801  knights of cydonia     0.065148         0          [\"'muse'\"]   \n",
       "73759         best of you     0.045475         0  [\"'foo fighters'\"]   \n",
       "\n",
       "      release_date  danceability  energy       key  loudness  mode  \\\n",
       "72837         2004         0.354   0.982  0.363636  0.871482     0   \n",
       "50622   1980-11-08         0.329   0.974  0.272727  0.783621     0   \n",
       "71173   2002-10-22         0.376   0.908  0.363636  0.859750     0   \n",
       "74801   2006-06-19         0.366   0.963  1.000000  0.836683     0   \n",
       "73759   2005-06-14         0.366   0.940  0.090909  0.839467     0   \n",
       "\n",
       "       speechiness  acousticness  instrumentalness  liveness  valence  \\\n",
       "72837       0.1680      0.000237          0.000294    0.2040    0.194   \n",
       "50622       0.1350      0.000852          0.000118    0.0904    0.234   \n",
       "71173       0.0879      0.000014          0.000014    0.2410    0.266   \n",
       "74801       0.1420      0.000273          0.012200    0.1150    0.211   \n",
       "73759       0.0696      0.000769          0.000094    0.1880    0.369   \n",
       "\n",
       "          tempo  time_signature  popularity  \n",
       "72837  0.583535             0.8        0.78  \n",
       "50622  0.571724             0.8        0.75  \n",
       "71173  0.586819             0.8        0.68  \n",
       "74801  0.556512             0.8        0.69  \n",
       "73759  0.528442             0.8        0.76  "
      ],
      "text/html": "<div>\n<style scoped>\n    .dataframe tbody tr th:only-of-type {\n        vertical-align: middle;\n    }\n\n    .dataframe tbody tr th {\n        vertical-align: top;\n    }\n\n    .dataframe thead th {\n        text-align: right;\n    }\n</style>\n<table border=\"1\" class=\"dataframe\">\n  <thead>\n    <tr style=\"text-align: right;\">\n      <th></th>\n      <th>name</th>\n      <th>duration_ms</th>\n      <th>explicit</th>\n      <th>artists</th>\n      <th>release_date</th>\n      <th>danceability</th>\n      <th>energy</th>\n      <th>key</th>\n      <th>loudness</th>\n      <th>mode</th>\n      <th>speechiness</th>\n      <th>acousticness</th>\n      <th>instrumentalness</th>\n      <th>liveness</th>\n      <th>valence</th>\n      <th>tempo</th>\n      <th>time_signature</th>\n      <th>popularity</th>\n    </tr>\n  </thead>\n  <tbody>\n    <tr>\n      <th>72837</th>\n      <td>duality</td>\n      <td>0.044939</td>\n      <td>0</td>\n      <td>[\"'slipknot'\"]</td>\n      <td>2004</td>\n      <td>0.354</td>\n      <td>0.982</td>\n      <td>0.363636</td>\n      <td>0.871482</td>\n      <td>0</td>\n      <td>0.1680</td>\n      <td>0.000237</td>\n      <td>0.000294</td>\n      <td>0.2040</td>\n      <td>0.194</td>\n      <td>0.583535</td>\n      <td>0.8</td>\n      <td>0.78</td>\n    </tr>\n    <tr>\n      <th>50622</th>\n      <td>ace of spades</td>\n      <td>0.029695</td>\n      <td>0</td>\n      <td>[\"'motörhead'\"]</td>\n      <td>1980-11-08</td>\n      <td>0.329</td>\n      <td>0.974</td>\n      <td>0.272727</td>\n      <td>0.783621</td>\n      <td>0</td>\n      <td>0.1350</td>\n      <td>0.000852</td>\n      <td>0.000118</td>\n      <td>0.0904</td>\n      <td>0.234</td>\n      <td>0.571724</td>\n      <td>0.8</td>\n      <td>0.75</td>\n    </tr>\n    <tr>\n      <th>71173</th>\n      <td>times like these</td>\n      <td>0.047242</td>\n      <td>0</td>\n      <td>[\"'foo fighters'\"]</td>\n      <td>2002-10-22</td>\n      <td>0.376</td>\n      <td>0.908</td>\n      <td>0.363636</td>\n      <td>0.859750</td>\n      <td>0</td>\n      <td>0.0879</td>\n      <td>0.000014</td>\n      <td>0.000014</td>\n      <td>0.2410</td>\n      <td>0.266</td>\n      <td>0.586819</td>\n      <td>0.8</td>\n      <td>0.68</td>\n    </tr>\n    <tr>\n      <th>74801</th>\n      <td>knights of cydonia</td>\n      <td>0.065148</td>\n      <td>0</td>\n      <td>[\"'muse'\"]</td>\n      <td>2006-06-19</td>\n      <td>0.366</td>\n      <td>0.963</td>\n      <td>1.000000</td>\n      <td>0.836683</td>\n      <td>0</td>\n      <td>0.1420</td>\n      <td>0.000273</td>\n      <td>0.012200</td>\n      <td>0.1150</td>\n      <td>0.211</td>\n      <td>0.556512</td>\n      <td>0.8</td>\n      <td>0.69</td>\n    </tr>\n    <tr>\n      <th>73759</th>\n      <td>best of you</td>\n      <td>0.045475</td>\n      <td>0</td>\n      <td>[\"'foo fighters'\"]</td>\n      <td>2005-06-14</td>\n      <td>0.366</td>\n      <td>0.940</td>\n      <td>0.090909</td>\n      <td>0.839467</td>\n      <td>0</td>\n      <td>0.0696</td>\n      <td>0.000769</td>\n      <td>0.000094</td>\n      <td>0.1880</td>\n      <td>0.369</td>\n      <td>0.528442</td>\n      <td>0.8</td>\n      <td>0.76</td>\n    </tr>\n  </tbody>\n</table>\n</div>"
     },
     "metadata": {},
     "execution_count": 244
    }
   ],
   "source": [
    "df_full.iloc[ind2[0]]"
   ]
  },
  {
   "cell_type": "code",
   "execution_count": 245,
   "metadata": {},
   "outputs": [
    {
     "output_type": "execute_result",
     "data": {
      "text/plain": [
       "                                                     name  duration_ms  \\\n",
       "72837                                             duality     0.044939   \n",
       "164331                                         inside out     0.040267   \n",
       "79753                                 kyoto (feat. sirah)     0.035719   \n",
       "352434                                        final round     0.029492   \n",
       "54565   creeping death - creeping death ep version / r...     0.070395   \n",
       "\n",
       "        explicit                        artists release_date  danceability  \\\n",
       "72837          0                 [\"'slipknot'\"]         2004         0.354   \n",
       "164331         1  [\"'five finger death punch'\"]   2019-12-02         0.476   \n",
       "79753          1      [\"'skrillex'\", \"'sirah'\"]   2011-12-27         0.605   \n",
       "352434         0          [\"'free flow flava'\"]   2019-10-04         0.342   \n",
       "54565          0                [\"'metallica'\"]   1984-07-26         0.251   \n",
       "\n",
       "        energy       key  loudness  mode  speechiness  acousticness  \\\n",
       "72837    0.982  0.363636  0.871482     0       0.1680      0.000237   \n",
       "164331   0.991  0.363636  0.874098     0       0.1500      0.001910   \n",
       "79753    0.920  0.363636  0.882617     0       0.0713      0.001200   \n",
       "352434   0.939  0.363636  0.798168     0       0.1160      0.002480   \n",
       "54565    0.978  0.363636  0.833716     0       0.1660      0.000254   \n",
       "\n",
       "        instrumentalness  liveness  valence     tempo  time_signature  \\\n",
       "72837           0.000294    0.2040    0.194  0.583535             0.8   \n",
       "164331          0.000000    0.1210    0.202  0.336864             0.8   \n",
       "79753           0.000596    0.4830    0.219  0.710177             0.8   \n",
       "352434          0.857000    0.1790    0.243  0.696795             0.8   \n",
       "54565           0.315000    0.0798    0.170  0.409212             0.8   \n",
       "\n",
       "        popularity  \n",
       "72837         0.78  \n",
       "164331        0.62  \n",
       "79753         0.61  \n",
       "352434        0.56  \n",
       "54565         0.57  "
      ],
      "text/html": "<div>\n<style scoped>\n    .dataframe tbody tr th:only-of-type {\n        vertical-align: middle;\n    }\n\n    .dataframe tbody tr th {\n        vertical-align: top;\n    }\n\n    .dataframe thead th {\n        text-align: right;\n    }\n</style>\n<table border=\"1\" class=\"dataframe\">\n  <thead>\n    <tr style=\"text-align: right;\">\n      <th></th>\n      <th>name</th>\n      <th>duration_ms</th>\n      <th>explicit</th>\n      <th>artists</th>\n      <th>release_date</th>\n      <th>danceability</th>\n      <th>energy</th>\n      <th>key</th>\n      <th>loudness</th>\n      <th>mode</th>\n      <th>speechiness</th>\n      <th>acousticness</th>\n      <th>instrumentalness</th>\n      <th>liveness</th>\n      <th>valence</th>\n      <th>tempo</th>\n      <th>time_signature</th>\n      <th>popularity</th>\n    </tr>\n  </thead>\n  <tbody>\n    <tr>\n      <th>72837</th>\n      <td>duality</td>\n      <td>0.044939</td>\n      <td>0</td>\n      <td>[\"'slipknot'\"]</td>\n      <td>2004</td>\n      <td>0.354</td>\n      <td>0.982</td>\n      <td>0.363636</td>\n      <td>0.871482</td>\n      <td>0</td>\n      <td>0.1680</td>\n      <td>0.000237</td>\n      <td>0.000294</td>\n      <td>0.2040</td>\n      <td>0.194</td>\n      <td>0.583535</td>\n      <td>0.8</td>\n      <td>0.78</td>\n    </tr>\n    <tr>\n      <th>164331</th>\n      <td>inside out</td>\n      <td>0.040267</td>\n      <td>1</td>\n      <td>[\"'five finger death punch'\"]</td>\n      <td>2019-12-02</td>\n      <td>0.476</td>\n      <td>0.991</td>\n      <td>0.363636</td>\n      <td>0.874098</td>\n      <td>0</td>\n      <td>0.1500</td>\n      <td>0.001910</td>\n      <td>0.000000</td>\n      <td>0.1210</td>\n      <td>0.202</td>\n      <td>0.336864</td>\n      <td>0.8</td>\n      <td>0.62</td>\n    </tr>\n    <tr>\n      <th>79753</th>\n      <td>kyoto (feat. sirah)</td>\n      <td>0.035719</td>\n      <td>1</td>\n      <td>[\"'skrillex'\", \"'sirah'\"]</td>\n      <td>2011-12-27</td>\n      <td>0.605</td>\n      <td>0.920</td>\n      <td>0.363636</td>\n      <td>0.882617</td>\n      <td>0</td>\n      <td>0.0713</td>\n      <td>0.001200</td>\n      <td>0.000596</td>\n      <td>0.4830</td>\n      <td>0.219</td>\n      <td>0.710177</td>\n      <td>0.8</td>\n      <td>0.61</td>\n    </tr>\n    <tr>\n      <th>352434</th>\n      <td>final round</td>\n      <td>0.029492</td>\n      <td>0</td>\n      <td>[\"'free flow flava'\"]</td>\n      <td>2019-10-04</td>\n      <td>0.342</td>\n      <td>0.939</td>\n      <td>0.363636</td>\n      <td>0.798168</td>\n      <td>0</td>\n      <td>0.1160</td>\n      <td>0.002480</td>\n      <td>0.857000</td>\n      <td>0.1790</td>\n      <td>0.243</td>\n      <td>0.696795</td>\n      <td>0.8</td>\n      <td>0.56</td>\n    </tr>\n    <tr>\n      <th>54565</th>\n      <td>creeping death - creeping death ep version / r...</td>\n      <td>0.070395</td>\n      <td>0</td>\n      <td>[\"'metallica'\"]</td>\n      <td>1984-07-26</td>\n      <td>0.251</td>\n      <td>0.978</td>\n      <td>0.363636</td>\n      <td>0.833716</td>\n      <td>0</td>\n      <td>0.1660</td>\n      <td>0.000254</td>\n      <td>0.315000</td>\n      <td>0.0798</td>\n      <td>0.170</td>\n      <td>0.409212</td>\n      <td>0.8</td>\n      <td>0.57</td>\n    </tr>\n  </tbody>\n</table>\n</div>"
     },
     "metadata": {},
     "execution_count": 245
    }
   ],
   "source": [
    "df_full.iloc[ind3[0]]"
   ]
  },
  {
   "cell_type": "code",
   "execution_count": 256,
   "metadata": {},
   "outputs": [
    {
     "output_type": "execute_result",
     "data": {
      "text/plain": [
       "                     name  duration_ms  explicit                    artists  \\\n",
       "72837             duality     0.044939         0             [\"'slipknot'\"]   \n",
       "71911    bring me to life     0.041965         0          [\"'evanescence'\"]   \n",
       "77786             eyeless     0.042048         1             [\"'slipknot'\"]   \n",
       "50622       ace of spades     0.029695         0            [\"'motörhead'\"]   \n",
       "73246  give 'em hell, kid     0.024699         0  [\"'my chemical romance'\"]   \n",
       "\n",
       "      release_date  danceability  energy       key  loudness  mode  \\\n",
       "72837         2004         0.354   0.982  0.363636  0.871482     0   \n",
       "71911   2003-03-04         0.331   0.943  0.363636  0.869004     0   \n",
       "77786   2009-09-09         0.293   0.997  0.363636  0.851016     0   \n",
       "50622   1980-11-08         0.329   0.974  0.272727  0.783621     0   \n",
       "73246   2004-06-08         0.252   0.993  0.363636  0.870671     0   \n",
       "\n",
       "       speechiness  acousticness  instrumentalness  liveness  valence  \\\n",
       "72837       0.1680      0.000237          0.000294    0.2040    0.194   \n",
       "71911       0.0698      0.007210          0.000002    0.2420    0.296   \n",
       "77786       0.2170      0.000463          0.000039    0.4150    0.130   \n",
       "50622       0.1350      0.000852          0.000118    0.0904    0.234   \n",
       "73246       0.1600      0.023400          0.000000    0.2280    0.118   \n",
       "\n",
       "          tempo  time_signature  popularity  \n",
       "72837  0.583535             0.8        0.78  \n",
       "71911  0.384007             0.8        0.81  \n",
       "77786  0.407288             0.8        0.61  \n",
       "50622  0.571724             0.8        0.75  \n",
       "73246  0.745889             0.8        0.62  "
      ],
      "text/html": "<div>\n<style scoped>\n    .dataframe tbody tr th:only-of-type {\n        vertical-align: middle;\n    }\n\n    .dataframe tbody tr th {\n        vertical-align: top;\n    }\n\n    .dataframe thead th {\n        text-align: right;\n    }\n</style>\n<table border=\"1\" class=\"dataframe\">\n  <thead>\n    <tr style=\"text-align: right;\">\n      <th></th>\n      <th>name</th>\n      <th>duration_ms</th>\n      <th>explicit</th>\n      <th>artists</th>\n      <th>release_date</th>\n      <th>danceability</th>\n      <th>energy</th>\n      <th>key</th>\n      <th>loudness</th>\n      <th>mode</th>\n      <th>speechiness</th>\n      <th>acousticness</th>\n      <th>instrumentalness</th>\n      <th>liveness</th>\n      <th>valence</th>\n      <th>tempo</th>\n      <th>time_signature</th>\n      <th>popularity</th>\n    </tr>\n  </thead>\n  <tbody>\n    <tr>\n      <th>72837</th>\n      <td>duality</td>\n      <td>0.044939</td>\n      <td>0</td>\n      <td>[\"'slipknot'\"]</td>\n      <td>2004</td>\n      <td>0.354</td>\n      <td>0.982</td>\n      <td>0.363636</td>\n      <td>0.871482</td>\n      <td>0</td>\n      <td>0.1680</td>\n      <td>0.000237</td>\n      <td>0.000294</td>\n      <td>0.2040</td>\n      <td>0.194</td>\n      <td>0.583535</td>\n      <td>0.8</td>\n      <td>0.78</td>\n    </tr>\n    <tr>\n      <th>71911</th>\n      <td>bring me to life</td>\n      <td>0.041965</td>\n      <td>0</td>\n      <td>[\"'evanescence'\"]</td>\n      <td>2003-03-04</td>\n      <td>0.331</td>\n      <td>0.943</td>\n      <td>0.363636</td>\n      <td>0.869004</td>\n      <td>0</td>\n      <td>0.0698</td>\n      <td>0.007210</td>\n      <td>0.000002</td>\n      <td>0.2420</td>\n      <td>0.296</td>\n      <td>0.384007</td>\n      <td>0.8</td>\n      <td>0.81</td>\n    </tr>\n    <tr>\n      <th>77786</th>\n      <td>eyeless</td>\n      <td>0.042048</td>\n      <td>1</td>\n      <td>[\"'slipknot'\"]</td>\n      <td>2009-09-09</td>\n      <td>0.293</td>\n      <td>0.997</td>\n      <td>0.363636</td>\n      <td>0.851016</td>\n      <td>0</td>\n      <td>0.2170</td>\n      <td>0.000463</td>\n      <td>0.000039</td>\n      <td>0.4150</td>\n      <td>0.130</td>\n      <td>0.407288</td>\n      <td>0.8</td>\n      <td>0.61</td>\n    </tr>\n    <tr>\n      <th>50622</th>\n      <td>ace of spades</td>\n      <td>0.029695</td>\n      <td>0</td>\n      <td>[\"'motörhead'\"]</td>\n      <td>1980-11-08</td>\n      <td>0.329</td>\n      <td>0.974</td>\n      <td>0.272727</td>\n      <td>0.783621</td>\n      <td>0</td>\n      <td>0.1350</td>\n      <td>0.000852</td>\n      <td>0.000118</td>\n      <td>0.0904</td>\n      <td>0.234</td>\n      <td>0.571724</td>\n      <td>0.8</td>\n      <td>0.75</td>\n    </tr>\n    <tr>\n      <th>73246</th>\n      <td>give 'em hell, kid</td>\n      <td>0.024699</td>\n      <td>0</td>\n      <td>[\"'my chemical romance'\"]</td>\n      <td>2004-06-08</td>\n      <td>0.252</td>\n      <td>0.993</td>\n      <td>0.363636</td>\n      <td>0.870671</td>\n      <td>0</td>\n      <td>0.1600</td>\n      <td>0.023400</td>\n      <td>0.000000</td>\n      <td>0.2280</td>\n      <td>0.118</td>\n      <td>0.745889</td>\n      <td>0.8</td>\n      <td>0.62</td>\n    </tr>\n  </tbody>\n</table>\n</div>"
     },
     "metadata": {},
     "execution_count": 256
    }
   ],
   "source": [
    "df_full.iloc[ind4[0]]"
   ]
  },
  {
   "cell_type": "code",
   "execution_count": 204,
   "metadata": {},
   "outputs": [
    {
     "output_type": "execute_result",
     "data": {
      "text/plain": [
       "                               name  duration_ms  explicit         artists  \\\n",
       "70349                 people = shit     0.038355         1  [\"'slipknot'\"]   \n",
       "70486            the heretic anthem     0.045186         1  [\"'slipknot'\"]   \n",
       "70494                   left behind     0.042956         0  [\"'slipknot'\"]   \n",
       "70657                 disasterpiece     0.054847         1  [\"'slipknot'\"]   \n",
       "70700                     my plague     0.039190         1  [\"'slipknot'\"]   \n",
       "70951               everything ends     0.045205         1  [\"'slipknot'\"]   \n",
       "72837                       duality     0.044939         0  [\"'slipknot'\"]   \n",
       "72846               before i forget     0.049562         0  [\"'slipknot'\"]   \n",
       "72985              vermilion, pt. 2     0.039906         0  [\"'slipknot'\"]   \n",
       "73263                     vermilion     0.056334         0  [\"'slipknot'\"]   \n",
       "73449            the blister exists     0.056825         0  [\"'slipknot'\"]   \n",
       "73483          pulse of the maggots     0.046206         0  [\"'slipknot'\"]   \n",
       "73669                  the nameless     0.047684         0  [\"'slipknot'\"]   \n",
       "76500                  psychosocial     0.050544         0  [\"'slipknot'\"]   \n",
       "76564                         snuff     0.049126         0  [\"'slipknot'\"]   \n",
       "76712                 dead memories     0.047781         0  [\"'slipknot'\"]   \n",
       "76910                        sulfur     0.049420         0  [\"'slipknot'\"]   \n",
       "77320                wait and bleed     0.026300         0  [\"'slipknot'\"]   \n",
       "77530                   spit it out     0.028423         1  [\"'slipknot'\"]   \n",
       "77617                         (sic)     0.035558         1  [\"'slipknot'\"]   \n",
       "77786                       eyeless     0.042048         1  [\"'slipknot'\"]   \n",
       "77887                     surfacing     0.038798         1  [\"'slipknot'\"]   \n",
       "87114                     unsainted     0.046391         1  [\"'slipknot'\"]   \n",
       "106255               the devil in i     0.060987         0  [\"'slipknot'\"]   \n",
       "121082             all hope is gone     0.050658         0  [\"'slipknot'\"]   \n",
       "121141                     vendetta     0.056128         1  [\"'slipknot'\"]   \n",
       "121199                     liberate     0.032788         1  [\"'slipknot'\"]   \n",
       "121243                       purity     0.047223         1  [\"'slipknot'\"]   \n",
       "159703                       gently     0.052302         0  [\"'slipknot'\"]   \n",
       "159717                   i am hated     0.028077         1  [\"'slipknot'\"]   \n",
       "159725                    the shape     0.038722         1  [\"'slipknot'\"]   \n",
       "160445          opium of the people     0.034261         0  [\"'slipknot'\"]   \n",
       "161371                  'til we die     0.061498         0  [\"'slipknot'\"]   \n",
       "162793                      killpop     0.040039         1  [\"'slipknot'\"]   \n",
       "162805                       custer     0.045269         1  [\"'slipknot'\"]   \n",
       "162917             the negative one     0.057847         1  [\"'slipknot'\"]   \n",
       "163910                 all out life     0.060509         1  [\"'slipknot'\"]   \n",
       "164178                   nero forte     0.056069         1  [\"'slipknot'\"]   \n",
       "240672                       circle     0.046785         0  [\"'slipknot'\"]   \n",
       "240692                    three nil     0.051291         1  [\"'slipknot'\"]   \n",
       "289703                       scream     0.048386         0  [\"'slipknot'\"]   \n",
       "289802                  prelude 3.0     0.042214         0  [\"'slipknot'\"]   \n",
       "289807                      welcome     0.034763         0  [\"'slipknot'\"]   \n",
       "289832            the virus of life     0.057893         0  [\"'slipknot'\"]   \n",
       "322288                       eeyore     0.029855         1  [\"'slipknot'\"]   \n",
       "322305                     get this     0.021953         1  [\"'slipknot'\"]   \n",
       "322308                      no life     0.029775         1  [\"'slipknot'\"]   \n",
       "379072  gematria (the killing name)     0.064316         1  [\"'slipknot'\"]   \n",
       "379158                     only one     0.025707         1  [\"'slipknot'\"]   \n",
       "419922                    me inside     0.028362         1  [\"'slipknot'\"]   \n",
       "\n",
       "       release_date  danceability  energy       key  loudness  mode  \\\n",
       "70349          2001         0.462   0.996  1.000000  0.872293     0   \n",
       "70486          2001         0.451   0.993  0.090909  0.854396     1   \n",
       "70494          2001         0.229   0.994  0.545455  0.865287     1   \n",
       "70657          2001         0.395   0.988  1.000000  0.855620     0   \n",
       "70700          2001         0.279   0.993  1.000000  0.876927     0   \n",
       "70951          2001         0.467   0.992  1.000000  0.868545     0   \n",
       "72837          2004         0.354   0.982  0.363636  0.871482     0   \n",
       "72846          2004         0.291   0.974  0.545455  0.871925     0   \n",
       "72985          2004         0.589   0.442  0.363636  0.787491     1   \n",
       "73263          2004         0.219   0.989  1.000000  0.872461     0   \n",
       "73449          2004         0.392   0.993  0.545455  0.878992     1   \n",
       "73483          2004         0.218   0.994  0.636364  0.883780     1   \n",
       "73669          2004         0.338   0.983  0.636364  0.880614     1   \n",
       "76500    2008-08-20         0.568   0.981  0.181818  0.858281     1   \n",
       "76564    2008-08-22         0.544   0.690  0.545455  0.830228     0   \n",
       "76712    2008-08-22         0.547   0.963  0.363636  0.882021     0   \n",
       "76910    2008-08-22         0.278   0.985  1.000000  0.888185     1   \n",
       "77320    2009-09-09         0.382   0.996  0.636364  0.854763     1   \n",
       "77530    2009-09-09         0.331   0.946  0.636364  0.847421     1   \n",
       "77617    2009-09-09         0.380   0.994  0.636364  0.846825     1   \n",
       "77786    2009-09-09         0.293   0.997  0.363636  0.851016     0   \n",
       "77887    2009-09-09         0.443   0.993  1.000000  0.848675     0   \n",
       "87114    2019-08-09         0.427   0.946  0.636364  0.884300     1   \n",
       "106255   2014-10-15         0.398   0.939  0.818182  0.873945     0   \n",
       "121082   2008-08-22         0.556   0.996  0.090909  0.879268     1   \n",
       "121141   2008-08-22         0.338   0.974  0.181818  0.880660     1   \n",
       "121199   2009-09-09         0.334   0.990  0.090909  0.857180     1   \n",
       "121243   2009-09-09         0.283   0.978  0.545455  0.831926     1   \n",
       "159703         2001         0.295   0.961  0.181818  0.847329     1   \n",
       "159717         2001         0.435   0.986  0.636364  0.864874     1   \n",
       "159725         2001         0.363   0.993  0.636364  0.867046     1   \n",
       "160445         2004         0.352   0.995  1.000000  0.892269     1   \n",
       "161371   2008-08-22         0.482   0.751  0.363636  0.841394     1   \n",
       "162793   2014-10-15         0.306   0.926  0.090909  0.875642     0   \n",
       "162805   2014-10-15         0.407   0.980  0.636364  0.893600     1   \n",
       "162917   2014-10-15         0.505   0.979  0.000000  0.892300     1   \n",
       "163910   2018-10-31         0.499   0.970  0.000000  0.874358     1   \n",
       "164178   2019-08-09         0.336   0.978  0.636364  0.881700     1   \n",
       "240672         2004         0.353   0.760  0.363636  0.839681     0   \n",
       "240692         2004         0.311   0.993  0.636364  0.879772     1   \n",
       "289703         2004         0.323   0.982  0.181818  0.868224     1   \n",
       "289802         2004         0.279   0.717  0.181818  0.836377     1   \n",
       "289807         2004         0.339   0.985  0.545455  0.883856     0   \n",
       "289832         2004         0.563   0.983  0.545455  0.844392     0   \n",
       "322288   2009-09-09         0.330   0.997  0.636364  0.838641     1   \n",
       "322305   2009-09-09         0.350   0.992  0.090909  0.840813     0   \n",
       "322308   2009-09-09         0.280   0.983  0.636364  0.847803     1   \n",
       "379072   2008-08-22         0.361   0.992  1.000000  0.876621     1   \n",
       "379158   2009-09-09         0.302   0.976  0.545455  0.847543     1   \n",
       "419922   1999-06-12         0.315   0.989  0.090909  0.848828     1   \n",
       "\n",
       "        speechiness  acousticness  instrumentalness  liveness  valence  \\\n",
       "70349        0.2310      0.000058          0.003770    0.1390   0.1450   \n",
       "70486        0.1850      0.000562          0.004790    0.1520   0.1400   \n",
       "70494        0.2200      0.000070          0.005480    0.3180   0.1150   \n",
       "70657        0.2460      0.000128          0.000244    0.1340   0.1890   \n",
       "70700        0.2090      0.000278          0.000394    0.1970   0.1070   \n",
       "70951        0.1750      0.000078          0.001750    0.4100   0.3170   \n",
       "72837        0.1680      0.000237          0.000294    0.2040   0.1940   \n",
       "72846        0.1710      0.017700          0.000005    0.8860   0.3480   \n",
       "72985        0.0291      0.334000          0.000424    0.0987   0.0904   \n",
       "73263        0.1600      0.004210          0.015600    0.3750   0.1490   \n",
       "73449        0.1340      0.000568          0.006700    0.2720   0.3510   \n",
       "73483        0.2910      0.003010          0.000003    0.2280   0.1120   \n",
       "73669        0.1800      0.015500          0.000743    0.5020   0.2200   \n",
       "76500        0.0887      0.002690          0.002750    0.0243   0.3070   \n",
       "76564        0.0425      0.012000          0.009500    0.0615   0.2190   \n",
       "76712        0.0744      0.000443          0.025100    0.3530   0.4410   \n",
       "76910        0.1290      0.000234          0.000235    0.1040   0.3420   \n",
       "77320        0.1040      0.002080          0.000000    0.4170   0.3270   \n",
       "77530        0.0775      0.030900          0.000006    0.2540   0.5340   \n",
       "77617        0.1240      0.000536          0.001280    0.0956   0.2670   \n",
       "77786        0.2170      0.000463          0.000039    0.4150   0.1300   \n",
       "77887        0.1010      0.000456          0.043700    0.3070   0.2760   \n",
       "87114        0.0469      0.000118          0.025300    0.0604   0.2370   \n",
       "106255       0.0648      0.005910          0.000881    0.3570   0.2350   \n",
       "121082       0.1710      0.002210          0.000142    0.2650   0.2060   \n",
       "121141       0.0648      0.000170          0.001040    0.0271   0.4590   \n",
       "121199       0.1870      0.000779          0.000000    0.0744   0.3950   \n",
       "121243       0.1800      0.000105          0.073500    0.2520   0.3990   \n",
       "159703       0.0997      0.000024          0.670000    0.2030   0.1960   \n",
       "159717       0.1820      0.000083          0.000924    0.5720   0.4340   \n",
       "159725       0.1930      0.000105          0.000473    0.1390   0.2130   \n",
       "160445       0.1810      0.007610          0.000026    0.5110   0.1380   \n",
       "161371       0.0467      0.137000          0.000000    0.1620   0.5210   \n",
       "162793       0.0912      0.000311          0.000644    0.0776   0.4830   \n",
       "162805       0.1070      0.001740          0.000112    0.1190   0.5370   \n",
       "162917       0.0715      0.000200          0.001350    0.3340   0.3120   \n",
       "163910       0.1160      0.000683          0.136000    0.0871   0.0506   \n",
       "164178       0.0846      0.000437          0.000525    0.1380   0.4960   \n",
       "240672       0.0344      0.165000          0.024500    0.3690   0.2730   \n",
       "240692       0.2000      0.000232          0.000010    0.2000   0.1050   \n",
       "289703       0.1470      0.002690          0.000002    0.3010   0.3210   \n",
       "289802       0.0468      0.000317          0.167000    0.2240   0.2100   \n",
       "289807       0.1610      0.004630          0.000000    0.2320   0.3950   \n",
       "289832       0.1270      0.000219          0.604000    0.9440   0.2200   \n",
       "322288       0.2830      0.000502          0.002720    0.4620   0.0595   \n",
       "322305       0.2690      0.017600          0.000000    0.7420   0.1110   \n",
       "322308       0.1420      0.000233          0.000060    0.3050   0.5000   \n",
       "379072       0.1360      0.000189          0.000613    0.2850   0.3200   \n",
       "379158       0.1470      0.003830          0.000002    0.5830   0.6810   \n",
       "419922       0.1840      0.000389          0.000007    0.1930   0.1450   \n",
       "\n",
       "           tempo  time_signature  popularity  \n",
       "70349   0.495460             0.8        0.66  \n",
       "70486   0.409232             0.8        0.63  \n",
       "70494   0.635694             0.8        0.63  \n",
       "70657   0.437063             0.8        0.60  \n",
       "70700   0.359415             0.8        0.60  \n",
       "70951   0.467605             0.8        0.57  \n",
       "72837   0.583535             0.8        0.78  \n",
       "72846   0.546812             0.8        0.75  \n",
       "72985   0.497960             0.6        0.67  \n",
       "73263   0.682151             0.6        0.62  \n",
       "73449   0.386791             0.8        0.59  \n",
       "73483   0.355015             0.8        0.59  \n",
       "73669   0.429976             0.8        0.57  \n",
       "76500   0.548524             0.8        0.72  \n",
       "76564   0.503131             0.8        0.69  \n",
       "76712   0.527886             0.8        0.64  \n",
       "76910   0.425370             0.8        0.61  \n",
       "77320   0.378864             0.8        0.70  \n",
       "77530   0.568084             0.8        0.64  \n",
       "77617   0.390960             0.8        0.63  \n",
       "77786   0.407288             0.8        0.61  \n",
       "77887   0.433779             0.8        0.60  \n",
       "87114   0.411172             0.8        0.74  \n",
       "106255  0.373515             0.8        0.72  \n",
       "121082  0.406123             0.8        0.56  \n",
       "121141  0.549848             0.8        0.56  \n",
       "121199  0.589177             0.8        0.57  \n",
       "121243  0.674476             0.8        0.57  \n",
       "159703  0.555570             0.8        0.52  \n",
       "159717  0.510681             0.8        0.49  \n",
       "159725  0.443305             0.8        0.48  \n",
       "160445  0.544937             0.8        0.51  \n",
       "161371  0.600890             0.6        0.52  \n",
       "162793  0.643191             0.8        0.63  \n",
       "162805  0.531965             0.8        0.60  \n",
       "162917  0.439157             0.8        0.58  \n",
       "163910  0.432493             0.8        0.67  \n",
       "164178  0.526997             0.8        0.69  \n",
       "240672  0.485102             0.8        0.51  \n",
       "240692  0.463806             0.8        0.50  \n",
       "289703  0.506171             0.8        0.48  \n",
       "289802  0.542177             0.6        0.47  \n",
       "289807  0.401715             0.8        0.48  \n",
       "289832  0.517832             0.8        0.46  \n",
       "322288  0.485805             0.8        0.51  \n",
       "322305  0.470860             0.8        0.49  \n",
       "322308  0.623737             0.8        0.49  \n",
       "379072  0.412284             0.8        0.50  \n",
       "379158  0.685710             0.8        0.46  \n",
       "419922  0.508623             0.8        0.41  "
      ],
      "text/html": "<div>\n<style scoped>\n    .dataframe tbody tr th:only-of-type {\n        vertical-align: middle;\n    }\n\n    .dataframe tbody tr th {\n        vertical-align: top;\n    }\n\n    .dataframe thead th {\n        text-align: right;\n    }\n</style>\n<table border=\"1\" class=\"dataframe\">\n  <thead>\n    <tr style=\"text-align: right;\">\n      <th></th>\n      <th>name</th>\n      <th>duration_ms</th>\n      <th>explicit</th>\n      <th>artists</th>\n      <th>release_date</th>\n      <th>danceability</th>\n      <th>energy</th>\n      <th>key</th>\n      <th>loudness</th>\n      <th>mode</th>\n      <th>speechiness</th>\n      <th>acousticness</th>\n      <th>instrumentalness</th>\n      <th>liveness</th>\n      <th>valence</th>\n      <th>tempo</th>\n      <th>time_signature</th>\n      <th>popularity</th>\n    </tr>\n  </thead>\n  <tbody>\n    <tr>\n      <th>70349</th>\n      <td>people = shit</td>\n      <td>0.038355</td>\n      <td>1</td>\n      <td>[\"'slipknot'\"]</td>\n      <td>2001</td>\n      <td>0.462</td>\n      <td>0.996</td>\n      <td>1.000000</td>\n      <td>0.872293</td>\n      <td>0</td>\n      <td>0.2310</td>\n      <td>0.000058</td>\n      <td>0.003770</td>\n      <td>0.1390</td>\n      <td>0.1450</td>\n      <td>0.495460</td>\n      <td>0.8</td>\n      <td>0.66</td>\n    </tr>\n    <tr>\n      <th>70486</th>\n      <td>the heretic anthem</td>\n      <td>0.045186</td>\n      <td>1</td>\n      <td>[\"'slipknot'\"]</td>\n      <td>2001</td>\n      <td>0.451</td>\n      <td>0.993</td>\n      <td>0.090909</td>\n      <td>0.854396</td>\n      <td>1</td>\n      <td>0.1850</td>\n      <td>0.000562</td>\n      <td>0.004790</td>\n      <td>0.1520</td>\n      <td>0.1400</td>\n      <td>0.409232</td>\n      <td>0.8</td>\n      <td>0.63</td>\n    </tr>\n    <tr>\n      <th>70494</th>\n      <td>left behind</td>\n      <td>0.042956</td>\n      <td>0</td>\n      <td>[\"'slipknot'\"]</td>\n      <td>2001</td>\n      <td>0.229</td>\n      <td>0.994</td>\n      <td>0.545455</td>\n      <td>0.865287</td>\n      <td>1</td>\n      <td>0.2200</td>\n      <td>0.000070</td>\n      <td>0.005480</td>\n      <td>0.3180</td>\n      <td>0.1150</td>\n      <td>0.635694</td>\n      <td>0.8</td>\n      <td>0.63</td>\n    </tr>\n    <tr>\n      <th>70657</th>\n      <td>disasterpiece</td>\n      <td>0.054847</td>\n      <td>1</td>\n      <td>[\"'slipknot'\"]</td>\n      <td>2001</td>\n      <td>0.395</td>\n      <td>0.988</td>\n      <td>1.000000</td>\n      <td>0.855620</td>\n      <td>0</td>\n      <td>0.2460</td>\n      <td>0.000128</td>\n      <td>0.000244</td>\n      <td>0.1340</td>\n      <td>0.1890</td>\n      <td>0.437063</td>\n      <td>0.8</td>\n      <td>0.60</td>\n    </tr>\n    <tr>\n      <th>70700</th>\n      <td>my plague</td>\n      <td>0.039190</td>\n      <td>1</td>\n      <td>[\"'slipknot'\"]</td>\n      <td>2001</td>\n      <td>0.279</td>\n      <td>0.993</td>\n      <td>1.000000</td>\n      <td>0.876927</td>\n      <td>0</td>\n      <td>0.2090</td>\n      <td>0.000278</td>\n      <td>0.000394</td>\n      <td>0.1970</td>\n      <td>0.1070</td>\n      <td>0.359415</td>\n      <td>0.8</td>\n      <td>0.60</td>\n    </tr>\n    <tr>\n      <th>70951</th>\n      <td>everything ends</td>\n      <td>0.045205</td>\n      <td>1</td>\n      <td>[\"'slipknot'\"]</td>\n      <td>2001</td>\n      <td>0.467</td>\n      <td>0.992</td>\n      <td>1.000000</td>\n      <td>0.868545</td>\n      <td>0</td>\n      <td>0.1750</td>\n      <td>0.000078</td>\n      <td>0.001750</td>\n      <td>0.4100</td>\n      <td>0.3170</td>\n      <td>0.467605</td>\n      <td>0.8</td>\n      <td>0.57</td>\n    </tr>\n    <tr>\n      <th>72837</th>\n      <td>duality</td>\n      <td>0.044939</td>\n      <td>0</td>\n      <td>[\"'slipknot'\"]</td>\n      <td>2004</td>\n      <td>0.354</td>\n      <td>0.982</td>\n      <td>0.363636</td>\n      <td>0.871482</td>\n      <td>0</td>\n      <td>0.1680</td>\n      <td>0.000237</td>\n      <td>0.000294</td>\n      <td>0.2040</td>\n      <td>0.1940</td>\n      <td>0.583535</td>\n      <td>0.8</td>\n      <td>0.78</td>\n    </tr>\n    <tr>\n      <th>72846</th>\n      <td>before i forget</td>\n      <td>0.049562</td>\n      <td>0</td>\n      <td>[\"'slipknot'\"]</td>\n      <td>2004</td>\n      <td>0.291</td>\n      <td>0.974</td>\n      <td>0.545455</td>\n      <td>0.871925</td>\n      <td>0</td>\n      <td>0.1710</td>\n      <td>0.017700</td>\n      <td>0.000005</td>\n      <td>0.8860</td>\n      <td>0.3480</td>\n      <td>0.546812</td>\n      <td>0.8</td>\n      <td>0.75</td>\n    </tr>\n    <tr>\n      <th>72985</th>\n      <td>vermilion, pt. 2</td>\n      <td>0.039906</td>\n      <td>0</td>\n      <td>[\"'slipknot'\"]</td>\n      <td>2004</td>\n      <td>0.589</td>\n      <td>0.442</td>\n      <td>0.363636</td>\n      <td>0.787491</td>\n      <td>1</td>\n      <td>0.0291</td>\n      <td>0.334000</td>\n      <td>0.000424</td>\n      <td>0.0987</td>\n      <td>0.0904</td>\n      <td>0.497960</td>\n      <td>0.6</td>\n      <td>0.67</td>\n    </tr>\n    <tr>\n      <th>73263</th>\n      <td>vermilion</td>\n      <td>0.056334</td>\n      <td>0</td>\n      <td>[\"'slipknot'\"]</td>\n      <td>2004</td>\n      <td>0.219</td>\n      <td>0.989</td>\n      <td>1.000000</td>\n      <td>0.872461</td>\n      <td>0</td>\n      <td>0.1600</td>\n      <td>0.004210</td>\n      <td>0.015600</td>\n      <td>0.3750</td>\n      <td>0.1490</td>\n      <td>0.682151</td>\n      <td>0.6</td>\n      <td>0.62</td>\n    </tr>\n    <tr>\n      <th>73449</th>\n      <td>the blister exists</td>\n      <td>0.056825</td>\n      <td>0</td>\n      <td>[\"'slipknot'\"]</td>\n      <td>2004</td>\n      <td>0.392</td>\n      <td>0.993</td>\n      <td>0.545455</td>\n      <td>0.878992</td>\n      <td>1</td>\n      <td>0.1340</td>\n      <td>0.000568</td>\n      <td>0.006700</td>\n      <td>0.2720</td>\n      <td>0.3510</td>\n      <td>0.386791</td>\n      <td>0.8</td>\n      <td>0.59</td>\n    </tr>\n    <tr>\n      <th>73483</th>\n      <td>pulse of the maggots</td>\n      <td>0.046206</td>\n      <td>0</td>\n      <td>[\"'slipknot'\"]</td>\n      <td>2004</td>\n      <td>0.218</td>\n      <td>0.994</td>\n      <td>0.636364</td>\n      <td>0.883780</td>\n      <td>1</td>\n      <td>0.2910</td>\n      <td>0.003010</td>\n      <td>0.000003</td>\n      <td>0.2280</td>\n      <td>0.1120</td>\n      <td>0.355015</td>\n      <td>0.8</td>\n      <td>0.59</td>\n    </tr>\n    <tr>\n      <th>73669</th>\n      <td>the nameless</td>\n      <td>0.047684</td>\n      <td>0</td>\n      <td>[\"'slipknot'\"]</td>\n      <td>2004</td>\n      <td>0.338</td>\n      <td>0.983</td>\n      <td>0.636364</td>\n      <td>0.880614</td>\n      <td>1</td>\n      <td>0.1800</td>\n      <td>0.015500</td>\n      <td>0.000743</td>\n      <td>0.5020</td>\n      <td>0.2200</td>\n      <td>0.429976</td>\n      <td>0.8</td>\n      <td>0.57</td>\n    </tr>\n    <tr>\n      <th>76500</th>\n      <td>psychosocial</td>\n      <td>0.050544</td>\n      <td>0</td>\n      <td>[\"'slipknot'\"]</td>\n      <td>2008-08-20</td>\n      <td>0.568</td>\n      <td>0.981</td>\n      <td>0.181818</td>\n      <td>0.858281</td>\n      <td>1</td>\n      <td>0.0887</td>\n      <td>0.002690</td>\n      <td>0.002750</td>\n      <td>0.0243</td>\n      <td>0.3070</td>\n      <td>0.548524</td>\n      <td>0.8</td>\n      <td>0.72</td>\n    </tr>\n    <tr>\n      <th>76564</th>\n      <td>snuff</td>\n      <td>0.049126</td>\n      <td>0</td>\n      <td>[\"'slipknot'\"]</td>\n      <td>2008-08-22</td>\n      <td>0.544</td>\n      <td>0.690</td>\n      <td>0.545455</td>\n      <td>0.830228</td>\n      <td>0</td>\n      <td>0.0425</td>\n      <td>0.012000</td>\n      <td>0.009500</td>\n      <td>0.0615</td>\n      <td>0.2190</td>\n      <td>0.503131</td>\n      <td>0.8</td>\n      <td>0.69</td>\n    </tr>\n    <tr>\n      <th>76712</th>\n      <td>dead memories</td>\n      <td>0.047781</td>\n      <td>0</td>\n      <td>[\"'slipknot'\"]</td>\n      <td>2008-08-22</td>\n      <td>0.547</td>\n      <td>0.963</td>\n      <td>0.363636</td>\n      <td>0.882021</td>\n      <td>0</td>\n      <td>0.0744</td>\n      <td>0.000443</td>\n      <td>0.025100</td>\n      <td>0.3530</td>\n      <td>0.4410</td>\n      <td>0.527886</td>\n      <td>0.8</td>\n      <td>0.64</td>\n    </tr>\n    <tr>\n      <th>76910</th>\n      <td>sulfur</td>\n      <td>0.049420</td>\n      <td>0</td>\n      <td>[\"'slipknot'\"]</td>\n      <td>2008-08-22</td>\n      <td>0.278</td>\n      <td>0.985</td>\n      <td>1.000000</td>\n      <td>0.888185</td>\n      <td>1</td>\n      <td>0.1290</td>\n      <td>0.000234</td>\n      <td>0.000235</td>\n      <td>0.1040</td>\n      <td>0.3420</td>\n      <td>0.425370</td>\n      <td>0.8</td>\n      <td>0.61</td>\n    </tr>\n    <tr>\n      <th>77320</th>\n      <td>wait and bleed</td>\n      <td>0.026300</td>\n      <td>0</td>\n      <td>[\"'slipknot'\"]</td>\n      <td>2009-09-09</td>\n      <td>0.382</td>\n      <td>0.996</td>\n      <td>0.636364</td>\n      <td>0.854763</td>\n      <td>1</td>\n      <td>0.1040</td>\n      <td>0.002080</td>\n      <td>0.000000</td>\n      <td>0.4170</td>\n      <td>0.3270</td>\n      <td>0.378864</td>\n      <td>0.8</td>\n      <td>0.70</td>\n    </tr>\n    <tr>\n      <th>77530</th>\n      <td>spit it out</td>\n      <td>0.028423</td>\n      <td>1</td>\n      <td>[\"'slipknot'\"]</td>\n      <td>2009-09-09</td>\n      <td>0.331</td>\n      <td>0.946</td>\n      <td>0.636364</td>\n      <td>0.847421</td>\n      <td>1</td>\n      <td>0.0775</td>\n      <td>0.030900</td>\n      <td>0.000006</td>\n      <td>0.2540</td>\n      <td>0.5340</td>\n      <td>0.568084</td>\n      <td>0.8</td>\n      <td>0.64</td>\n    </tr>\n    <tr>\n      <th>77617</th>\n      <td>(sic)</td>\n      <td>0.035558</td>\n      <td>1</td>\n      <td>[\"'slipknot'\"]</td>\n      <td>2009-09-09</td>\n      <td>0.380</td>\n      <td>0.994</td>\n      <td>0.636364</td>\n      <td>0.846825</td>\n      <td>1</td>\n      <td>0.1240</td>\n      <td>0.000536</td>\n      <td>0.001280</td>\n      <td>0.0956</td>\n      <td>0.2670</td>\n      <td>0.390960</td>\n      <td>0.8</td>\n      <td>0.63</td>\n    </tr>\n    <tr>\n      <th>77786</th>\n      <td>eyeless</td>\n      <td>0.042048</td>\n      <td>1</td>\n      <td>[\"'slipknot'\"]</td>\n      <td>2009-09-09</td>\n      <td>0.293</td>\n      <td>0.997</td>\n      <td>0.363636</td>\n      <td>0.851016</td>\n      <td>0</td>\n      <td>0.2170</td>\n      <td>0.000463</td>\n      <td>0.000039</td>\n      <td>0.4150</td>\n      <td>0.1300</td>\n      <td>0.407288</td>\n      <td>0.8</td>\n      <td>0.61</td>\n    </tr>\n    <tr>\n      <th>77887</th>\n      <td>surfacing</td>\n      <td>0.038798</td>\n      <td>1</td>\n      <td>[\"'slipknot'\"]</td>\n      <td>2009-09-09</td>\n      <td>0.443</td>\n      <td>0.993</td>\n      <td>1.000000</td>\n      <td>0.848675</td>\n      <td>0</td>\n      <td>0.1010</td>\n      <td>0.000456</td>\n      <td>0.043700</td>\n      <td>0.3070</td>\n      <td>0.2760</td>\n      <td>0.433779</td>\n      <td>0.8</td>\n      <td>0.60</td>\n    </tr>\n    <tr>\n      <th>87114</th>\n      <td>unsainted</td>\n      <td>0.046391</td>\n      <td>1</td>\n      <td>[\"'slipknot'\"]</td>\n      <td>2019-08-09</td>\n      <td>0.427</td>\n      <td>0.946</td>\n      <td>0.636364</td>\n      <td>0.884300</td>\n      <td>1</td>\n      <td>0.0469</td>\n      <td>0.000118</td>\n      <td>0.025300</td>\n      <td>0.0604</td>\n      <td>0.2370</td>\n      <td>0.411172</td>\n      <td>0.8</td>\n      <td>0.74</td>\n    </tr>\n    <tr>\n      <th>106255</th>\n      <td>the devil in i</td>\n      <td>0.060987</td>\n      <td>0</td>\n      <td>[\"'slipknot'\"]</td>\n      <td>2014-10-15</td>\n      <td>0.398</td>\n      <td>0.939</td>\n      <td>0.818182</td>\n      <td>0.873945</td>\n      <td>0</td>\n      <td>0.0648</td>\n      <td>0.005910</td>\n      <td>0.000881</td>\n      <td>0.3570</td>\n      <td>0.2350</td>\n      <td>0.373515</td>\n      <td>0.8</td>\n      <td>0.72</td>\n    </tr>\n    <tr>\n      <th>121082</th>\n      <td>all hope is gone</td>\n      <td>0.050658</td>\n      <td>0</td>\n      <td>[\"'slipknot'\"]</td>\n      <td>2008-08-22</td>\n      <td>0.556</td>\n      <td>0.996</td>\n      <td>0.090909</td>\n      <td>0.879268</td>\n      <td>1</td>\n      <td>0.1710</td>\n      <td>0.002210</td>\n      <td>0.000142</td>\n      <td>0.2650</td>\n      <td>0.2060</td>\n      <td>0.406123</td>\n      <td>0.8</td>\n      <td>0.56</td>\n    </tr>\n    <tr>\n      <th>121141</th>\n      <td>vendetta</td>\n      <td>0.056128</td>\n      <td>1</td>\n      <td>[\"'slipknot'\"]</td>\n      <td>2008-08-22</td>\n      <td>0.338</td>\n      <td>0.974</td>\n      <td>0.181818</td>\n      <td>0.880660</td>\n      <td>1</td>\n      <td>0.0648</td>\n      <td>0.000170</td>\n      <td>0.001040</td>\n      <td>0.0271</td>\n      <td>0.4590</td>\n      <td>0.549848</td>\n      <td>0.8</td>\n      <td>0.56</td>\n    </tr>\n    <tr>\n      <th>121199</th>\n      <td>liberate</td>\n      <td>0.032788</td>\n      <td>1</td>\n      <td>[\"'slipknot'\"]</td>\n      <td>2009-09-09</td>\n      <td>0.334</td>\n      <td>0.990</td>\n      <td>0.090909</td>\n      <td>0.857180</td>\n      <td>1</td>\n      <td>0.1870</td>\n      <td>0.000779</td>\n      <td>0.000000</td>\n      <td>0.0744</td>\n      <td>0.3950</td>\n      <td>0.589177</td>\n      <td>0.8</td>\n      <td>0.57</td>\n    </tr>\n    <tr>\n      <th>121243</th>\n      <td>purity</td>\n      <td>0.047223</td>\n      <td>1</td>\n      <td>[\"'slipknot'\"]</td>\n      <td>2009-09-09</td>\n      <td>0.283</td>\n      <td>0.978</td>\n      <td>0.545455</td>\n      <td>0.831926</td>\n      <td>1</td>\n      <td>0.1800</td>\n      <td>0.000105</td>\n      <td>0.073500</td>\n      <td>0.2520</td>\n      <td>0.3990</td>\n      <td>0.674476</td>\n      <td>0.8</td>\n      <td>0.57</td>\n    </tr>\n    <tr>\n      <th>159703</th>\n      <td>gently</td>\n      <td>0.052302</td>\n      <td>0</td>\n      <td>[\"'slipknot'\"]</td>\n      <td>2001</td>\n      <td>0.295</td>\n      <td>0.961</td>\n      <td>0.181818</td>\n      <td>0.847329</td>\n      <td>1</td>\n      <td>0.0997</td>\n      <td>0.000024</td>\n      <td>0.670000</td>\n      <td>0.2030</td>\n      <td>0.1960</td>\n      <td>0.555570</td>\n      <td>0.8</td>\n      <td>0.52</td>\n    </tr>\n    <tr>\n      <th>159717</th>\n      <td>i am hated</td>\n      <td>0.028077</td>\n      <td>1</td>\n      <td>[\"'slipknot'\"]</td>\n      <td>2001</td>\n      <td>0.435</td>\n      <td>0.986</td>\n      <td>0.636364</td>\n      <td>0.864874</td>\n      <td>1</td>\n      <td>0.1820</td>\n      <td>0.000083</td>\n      <td>0.000924</td>\n      <td>0.5720</td>\n      <td>0.4340</td>\n      <td>0.510681</td>\n      <td>0.8</td>\n      <td>0.49</td>\n    </tr>\n    <tr>\n      <th>159725</th>\n      <td>the shape</td>\n      <td>0.038722</td>\n      <td>1</td>\n      <td>[\"'slipknot'\"]</td>\n      <td>2001</td>\n      <td>0.363</td>\n      <td>0.993</td>\n      <td>0.636364</td>\n      <td>0.867046</td>\n      <td>1</td>\n      <td>0.1930</td>\n      <td>0.000105</td>\n      <td>0.000473</td>\n      <td>0.1390</td>\n      <td>0.2130</td>\n      <td>0.443305</td>\n      <td>0.8</td>\n      <td>0.48</td>\n    </tr>\n    <tr>\n      <th>160445</th>\n      <td>opium of the people</td>\n      <td>0.034261</td>\n      <td>0</td>\n      <td>[\"'slipknot'\"]</td>\n      <td>2004</td>\n      <td>0.352</td>\n      <td>0.995</td>\n      <td>1.000000</td>\n      <td>0.892269</td>\n      <td>1</td>\n      <td>0.1810</td>\n      <td>0.007610</td>\n      <td>0.000026</td>\n      <td>0.5110</td>\n      <td>0.1380</td>\n      <td>0.544937</td>\n      <td>0.8</td>\n      <td>0.51</td>\n    </tr>\n    <tr>\n      <th>161371</th>\n      <td>'til we die</td>\n      <td>0.061498</td>\n      <td>0</td>\n      <td>[\"'slipknot'\"]</td>\n      <td>2008-08-22</td>\n      <td>0.482</td>\n      <td>0.751</td>\n      <td>0.363636</td>\n      <td>0.841394</td>\n      <td>1</td>\n      <td>0.0467</td>\n      <td>0.137000</td>\n      <td>0.000000</td>\n      <td>0.1620</td>\n      <td>0.5210</td>\n      <td>0.600890</td>\n      <td>0.6</td>\n      <td>0.52</td>\n    </tr>\n    <tr>\n      <th>162793</th>\n      <td>killpop</td>\n      <td>0.040039</td>\n      <td>1</td>\n      <td>[\"'slipknot'\"]</td>\n      <td>2014-10-15</td>\n      <td>0.306</td>\n      <td>0.926</td>\n      <td>0.090909</td>\n      <td>0.875642</td>\n      <td>0</td>\n      <td>0.0912</td>\n      <td>0.000311</td>\n      <td>0.000644</td>\n      <td>0.0776</td>\n      <td>0.4830</td>\n      <td>0.643191</td>\n      <td>0.8</td>\n      <td>0.63</td>\n    </tr>\n    <tr>\n      <th>162805</th>\n      <td>custer</td>\n      <td>0.045269</td>\n      <td>1</td>\n      <td>[\"'slipknot'\"]</td>\n      <td>2014-10-15</td>\n      <td>0.407</td>\n      <td>0.980</td>\n      <td>0.636364</td>\n      <td>0.893600</td>\n      <td>1</td>\n      <td>0.1070</td>\n      <td>0.001740</td>\n      <td>0.000112</td>\n      <td>0.1190</td>\n      <td>0.5370</td>\n      <td>0.531965</td>\n      <td>0.8</td>\n      <td>0.60</td>\n    </tr>\n    <tr>\n      <th>162917</th>\n      <td>the negative one</td>\n      <td>0.057847</td>\n      <td>1</td>\n      <td>[\"'slipknot'\"]</td>\n      <td>2014-10-15</td>\n      <td>0.505</td>\n      <td>0.979</td>\n      <td>0.000000</td>\n      <td>0.892300</td>\n      <td>1</td>\n      <td>0.0715</td>\n      <td>0.000200</td>\n      <td>0.001350</td>\n      <td>0.3340</td>\n      <td>0.3120</td>\n      <td>0.439157</td>\n      <td>0.8</td>\n      <td>0.58</td>\n    </tr>\n    <tr>\n      <th>163910</th>\n      <td>all out life</td>\n      <td>0.060509</td>\n      <td>1</td>\n      <td>[\"'slipknot'\"]</td>\n      <td>2018-10-31</td>\n      <td>0.499</td>\n      <td>0.970</td>\n      <td>0.000000</td>\n      <td>0.874358</td>\n      <td>1</td>\n      <td>0.1160</td>\n      <td>0.000683</td>\n      <td>0.136000</td>\n      <td>0.0871</td>\n      <td>0.0506</td>\n      <td>0.432493</td>\n      <td>0.8</td>\n      <td>0.67</td>\n    </tr>\n    <tr>\n      <th>164178</th>\n      <td>nero forte</td>\n      <td>0.056069</td>\n      <td>1</td>\n      <td>[\"'slipknot'\"]</td>\n      <td>2019-08-09</td>\n      <td>0.336</td>\n      <td>0.978</td>\n      <td>0.636364</td>\n      <td>0.881700</td>\n      <td>1</td>\n      <td>0.0846</td>\n      <td>0.000437</td>\n      <td>0.000525</td>\n      <td>0.1380</td>\n      <td>0.4960</td>\n      <td>0.526997</td>\n      <td>0.8</td>\n      <td>0.69</td>\n    </tr>\n    <tr>\n      <th>240672</th>\n      <td>circle</td>\n      <td>0.046785</td>\n      <td>0</td>\n      <td>[\"'slipknot'\"]</td>\n      <td>2004</td>\n      <td>0.353</td>\n      <td>0.760</td>\n      <td>0.363636</td>\n      <td>0.839681</td>\n      <td>0</td>\n      <td>0.0344</td>\n      <td>0.165000</td>\n      <td>0.024500</td>\n      <td>0.3690</td>\n      <td>0.2730</td>\n      <td>0.485102</td>\n      <td>0.8</td>\n      <td>0.51</td>\n    </tr>\n    <tr>\n      <th>240692</th>\n      <td>three nil</td>\n      <td>0.051291</td>\n      <td>1</td>\n      <td>[\"'slipknot'\"]</td>\n      <td>2004</td>\n      <td>0.311</td>\n      <td>0.993</td>\n      <td>0.636364</td>\n      <td>0.879772</td>\n      <td>1</td>\n      <td>0.2000</td>\n      <td>0.000232</td>\n      <td>0.000010</td>\n      <td>0.2000</td>\n      <td>0.1050</td>\n      <td>0.463806</td>\n      <td>0.8</td>\n      <td>0.50</td>\n    </tr>\n    <tr>\n      <th>289703</th>\n      <td>scream</td>\n      <td>0.048386</td>\n      <td>0</td>\n      <td>[\"'slipknot'\"]</td>\n      <td>2004</td>\n      <td>0.323</td>\n      <td>0.982</td>\n      <td>0.181818</td>\n      <td>0.868224</td>\n      <td>1</td>\n      <td>0.1470</td>\n      <td>0.002690</td>\n      <td>0.000002</td>\n      <td>0.3010</td>\n      <td>0.3210</td>\n      <td>0.506171</td>\n      <td>0.8</td>\n      <td>0.48</td>\n    </tr>\n    <tr>\n      <th>289802</th>\n      <td>prelude 3.0</td>\n      <td>0.042214</td>\n      <td>0</td>\n      <td>[\"'slipknot'\"]</td>\n      <td>2004</td>\n      <td>0.279</td>\n      <td>0.717</td>\n      <td>0.181818</td>\n      <td>0.836377</td>\n      <td>1</td>\n      <td>0.0468</td>\n      <td>0.000317</td>\n      <td>0.167000</td>\n      <td>0.2240</td>\n      <td>0.2100</td>\n      <td>0.542177</td>\n      <td>0.6</td>\n      <td>0.47</td>\n    </tr>\n    <tr>\n      <th>289807</th>\n      <td>welcome</td>\n      <td>0.034763</td>\n      <td>0</td>\n      <td>[\"'slipknot'\"]</td>\n      <td>2004</td>\n      <td>0.339</td>\n      <td>0.985</td>\n      <td>0.545455</td>\n      <td>0.883856</td>\n      <td>0</td>\n      <td>0.1610</td>\n      <td>0.004630</td>\n      <td>0.000000</td>\n      <td>0.2320</td>\n      <td>0.3950</td>\n      <td>0.401715</td>\n      <td>0.8</td>\n      <td>0.48</td>\n    </tr>\n    <tr>\n      <th>289832</th>\n      <td>the virus of life</td>\n      <td>0.057893</td>\n      <td>0</td>\n      <td>[\"'slipknot'\"]</td>\n      <td>2004</td>\n      <td>0.563</td>\n      <td>0.983</td>\n      <td>0.545455</td>\n      <td>0.844392</td>\n      <td>0</td>\n      <td>0.1270</td>\n      <td>0.000219</td>\n      <td>0.604000</td>\n      <td>0.9440</td>\n      <td>0.2200</td>\n      <td>0.517832</td>\n      <td>0.8</td>\n      <td>0.46</td>\n    </tr>\n    <tr>\n      <th>322288</th>\n      <td>eeyore</td>\n      <td>0.029855</td>\n      <td>1</td>\n      <td>[\"'slipknot'\"]</td>\n      <td>2009-09-09</td>\n      <td>0.330</td>\n      <td>0.997</td>\n      <td>0.636364</td>\n      <td>0.838641</td>\n      <td>1</td>\n      <td>0.2830</td>\n      <td>0.000502</td>\n      <td>0.002720</td>\n      <td>0.4620</td>\n      <td>0.0595</td>\n      <td>0.485805</td>\n      <td>0.8</td>\n      <td>0.51</td>\n    </tr>\n    <tr>\n      <th>322305</th>\n      <td>get this</td>\n      <td>0.021953</td>\n      <td>1</td>\n      <td>[\"'slipknot'\"]</td>\n      <td>2009-09-09</td>\n      <td>0.350</td>\n      <td>0.992</td>\n      <td>0.090909</td>\n      <td>0.840813</td>\n      <td>0</td>\n      <td>0.2690</td>\n      <td>0.017600</td>\n      <td>0.000000</td>\n      <td>0.7420</td>\n      <td>0.1110</td>\n      <td>0.470860</td>\n      <td>0.8</td>\n      <td>0.49</td>\n    </tr>\n    <tr>\n      <th>322308</th>\n      <td>no life</td>\n      <td>0.029775</td>\n      <td>1</td>\n      <td>[\"'slipknot'\"]</td>\n      <td>2009-09-09</td>\n      <td>0.280</td>\n      <td>0.983</td>\n      <td>0.636364</td>\n      <td>0.847803</td>\n      <td>1</td>\n      <td>0.1420</td>\n      <td>0.000233</td>\n      <td>0.000060</td>\n      <td>0.3050</td>\n      <td>0.5000</td>\n      <td>0.623737</td>\n      <td>0.8</td>\n      <td>0.49</td>\n    </tr>\n    <tr>\n      <th>379072</th>\n      <td>gematria (the killing name)</td>\n      <td>0.064316</td>\n      <td>1</td>\n      <td>[\"'slipknot'\"]</td>\n      <td>2008-08-22</td>\n      <td>0.361</td>\n      <td>0.992</td>\n      <td>1.000000</td>\n      <td>0.876621</td>\n      <td>1</td>\n      <td>0.1360</td>\n      <td>0.000189</td>\n      <td>0.000613</td>\n      <td>0.2850</td>\n      <td>0.3200</td>\n      <td>0.412284</td>\n      <td>0.8</td>\n      <td>0.50</td>\n    </tr>\n    <tr>\n      <th>379158</th>\n      <td>only one</td>\n      <td>0.025707</td>\n      <td>1</td>\n      <td>[\"'slipknot'\"]</td>\n      <td>2009-09-09</td>\n      <td>0.302</td>\n      <td>0.976</td>\n      <td>0.545455</td>\n      <td>0.847543</td>\n      <td>1</td>\n      <td>0.1470</td>\n      <td>0.003830</td>\n      <td>0.000002</td>\n      <td>0.5830</td>\n      <td>0.6810</td>\n      <td>0.685710</td>\n      <td>0.8</td>\n      <td>0.46</td>\n    </tr>\n    <tr>\n      <th>419922</th>\n      <td>me inside</td>\n      <td>0.028362</td>\n      <td>1</td>\n      <td>[\"'slipknot'\"]</td>\n      <td>1999-06-12</td>\n      <td>0.315</td>\n      <td>0.989</td>\n      <td>0.090909</td>\n      <td>0.848828</td>\n      <td>1</td>\n      <td>0.1840</td>\n      <td>0.000389</td>\n      <td>0.000007</td>\n      <td>0.1930</td>\n      <td>0.1450</td>\n      <td>0.508623</td>\n      <td>0.8</td>\n      <td>0.41</td>\n    </tr>\n  </tbody>\n</table>\n</div>"
     },
     "metadata": {},
     "execution_count": 204
    }
   ],
   "source": [
    "df_full[df_full['artists'].str.contains('slipkn') == True].head(50)"
   ]
  },
  {
   "cell_type": "code",
   "execution_count": 8,
   "metadata": {},
   "outputs": [],
   "source": [
    "model = load_model('ae4')"
   ]
  }
 ]
}